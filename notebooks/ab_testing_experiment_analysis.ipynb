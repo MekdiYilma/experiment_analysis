{
 "cells": [
  {
   "cell_type": "code",
   "execution_count": 1028,
   "id": "e0568c7b",
   "metadata": {},
   "outputs": [],
   "source": [
    "import numpy as np\n",
    "import pandas as pd\n",
    "\n",
    "import matplotlib.pyplot as plt\n",
    "import matplotlib as mpl\n",
    "\n",
    "color_lst = ['#059ff6', '#f22e92', '#7565df', '#8fd5fa', '#0c385b', '#a1c1ea']\n",
    "mpl.rcParams['axes.prop_cycle'] = mpl.cycler(color=color_lst) \n",
    "\n",
    "from math import ceil\n",
    "\n",
    "from scipy import stats\n",
    "from statsmodels.stats import weightstats\n"
   ]
  },
  {
   "cell_type": "code",
   "execution_count": 463,
   "id": "cce57ae5",
   "metadata": {},
   "outputs": [
    {
     "data": {
      "text/html": [
       "<div>\n",
       "<style scoped>\n",
       "    .dataframe tbody tr th:only-of-type {\n",
       "        vertical-align: middle;\n",
       "    }\n",
       "\n",
       "    .dataframe tbody tr th {\n",
       "        vertical-align: top;\n",
       "    }\n",
       "\n",
       "    .dataframe thead th {\n",
       "        text-align: right;\n",
       "    }\n",
       "</style>\n",
       "<table border=\"1\" class=\"dataframe\">\n",
       "  <thead>\n",
       "    <tr style=\"text-align: right;\">\n",
       "      <th></th>\n",
       "      <th>treatment</th>\n",
       "      <th>company_size</th>\n",
       "      <th>campaign_spend</th>\n",
       "      <th>campaign_budget</th>\n",
       "    </tr>\n",
       "  </thead>\n",
       "  <tbody>\n",
       "    <tr>\n",
       "      <th>0</th>\n",
       "      <td>False</td>\n",
       "      <td>small</td>\n",
       "      <td>10.4477</td>\n",
       "      <td>3.9035</td>\n",
       "    </tr>\n",
       "    <tr>\n",
       "      <th>1</th>\n",
       "      <td>False</td>\n",
       "      <td>medium</td>\n",
       "      <td>3.7776</td>\n",
       "      <td>1.9872</td>\n",
       "    </tr>\n",
       "    <tr>\n",
       "      <th>2</th>\n",
       "      <td>False</td>\n",
       "      <td>medium</td>\n",
       "      <td>46.1880</td>\n",
       "      <td>55.4523</td>\n",
       "    </tr>\n",
       "    <tr>\n",
       "      <th>3</th>\n",
       "      <td>False</td>\n",
       "      <td>small</td>\n",
       "      <td>6.6271</td>\n",
       "      <td>6.5136</td>\n",
       "    </tr>\n",
       "    <tr>\n",
       "      <th>4</th>\n",
       "      <td>False</td>\n",
       "      <td>small</td>\n",
       "      <td>92.3405</td>\n",
       "      <td>83.1018</td>\n",
       "    </tr>\n",
       "  </tbody>\n",
       "</table>\n",
       "</div>"
      ],
      "text/plain": [
       "   treatment company_size  campaign_spend  campaign_budget\n",
       "0      False        small         10.4477           3.9035\n",
       "1      False       medium          3.7776           1.9872\n",
       "2      False       medium         46.1880          55.4523\n",
       "3      False        small          6.6271           6.5136\n",
       "4      False        small         92.3405          83.1018"
      ]
     },
     "execution_count": 463,
     "metadata": {},
     "output_type": "execute_result"
    }
   ],
   "source": [
    "experiment = pd.read_csv('../data/analytical_take_home_data_v3.csv')\n",
    "experiment.head()"
   ]
  },
  {
   "cell_type": "code",
   "execution_count": 464,
   "id": "f45373f3",
   "metadata": {},
   "outputs": [
    {
     "name": "stdout",
     "output_type": "stream",
     "text": [
      "<class 'pandas.core.frame.DataFrame'>\n",
      "RangeIndex: 15474 entries, 0 to 15473\n",
      "Data columns (total 4 columns):\n",
      " #   Column           Non-Null Count  Dtype  \n",
      "---  ------           --------------  -----  \n",
      " 0   treatment        15474 non-null  bool   \n",
      " 1   company_size     15474 non-null  object \n",
      " 2   campaign_spend   15474 non-null  float64\n",
      " 3   campaign_budget  15474 non-null  float64\n",
      "dtypes: bool(1), float64(2), object(1)\n",
      "memory usage: 377.9+ KB\n"
     ]
    }
   ],
   "source": [
    "# Data is collected from 15,474 advertisers with the experimentation randomly splitting advertisers \n",
    "# to test the new product\n",
    "experiment.info()"
   ]
  },
  {
   "cell_type": "markdown",
   "id": "191f93c6",
   "metadata": {},
   "source": [
    "### Data Schema \n",
    "\n",
    "A/B Testing Result <br>\n",
    "**Experiment**: pay each time ads appears in a user’s viewport rather than each time a user clicks on ads. (CTR vs Impressions)<br>\n",
    "\n",
    "<br>\n",
    "\n",
    "\n",
    "1) treatment \n",
    "- true = new product (pay on impressions)\n",
    "- false = old product (pay on clicks)\n",
    "\n",
    "2) company size\n",
    "- small: local businesses \n",
    "- medium: small national brands\n",
    "- large: global brands \n",
    "\n",
    "3) campaign spend & campaign budget: amount budgeted by the advertizers and spent by Twitter in the time of the experiment"
   ]
  },
  {
   "cell_type": "code",
   "execution_count": 465,
   "id": "06addf08",
   "metadata": {},
   "outputs": [],
   "source": [
    "# Overspend: the amount that Twitter has to cover for ad spend that exceeded the campaign's budget. \n",
    "# if spending remains within the budget, Twitter will not incur any additional overspend expense (hence, $0)\n",
    "experiment['overspend_amt'] = experiment.campaign_spend - experiment.campaign_budget\n",
    "experiment['overspend_amt'] = experiment.overspend_amt.clip(lower=0)\n",
    "experiment['overspend'] = experiment.overspend_amt > 0 "
   ]
  },
  {
   "cell_type": "code",
   "execution_count": 466,
   "id": "b947f3f9",
   "metadata": {},
   "outputs": [
    {
     "data": {
      "text/html": [
       "<div>\n",
       "<style scoped>\n",
       "    .dataframe tbody tr th:only-of-type {\n",
       "        vertical-align: middle;\n",
       "    }\n",
       "\n",
       "    .dataframe tbody tr th {\n",
       "        vertical-align: top;\n",
       "    }\n",
       "\n",
       "    .dataframe thead th {\n",
       "        text-align: right;\n",
       "    }\n",
       "</style>\n",
       "<table border=\"1\" class=\"dataframe\">\n",
       "  <thead>\n",
       "    <tr style=\"text-align: right;\">\n",
       "      <th></th>\n",
       "      <th>treatment</th>\n",
       "      <th>company_size</th>\n",
       "      <th>campaign_spend</th>\n",
       "      <th>campaign_budget</th>\n",
       "      <th>overspend_amt</th>\n",
       "      <th>overspend</th>\n",
       "    </tr>\n",
       "  </thead>\n",
       "  <tbody>\n",
       "    <tr>\n",
       "      <th>0</th>\n",
       "      <td>False</td>\n",
       "      <td>small</td>\n",
       "      <td>10.4477</td>\n",
       "      <td>3.9035</td>\n",
       "      <td>6.5442</td>\n",
       "      <td>True</td>\n",
       "    </tr>\n",
       "    <tr>\n",
       "      <th>1</th>\n",
       "      <td>False</td>\n",
       "      <td>medium</td>\n",
       "      <td>3.7776</td>\n",
       "      <td>1.9872</td>\n",
       "      <td>1.7904</td>\n",
       "      <td>True</td>\n",
       "    </tr>\n",
       "    <tr>\n",
       "      <th>2</th>\n",
       "      <td>False</td>\n",
       "      <td>medium</td>\n",
       "      <td>46.1880</td>\n",
       "      <td>55.4523</td>\n",
       "      <td>0.0000</td>\n",
       "      <td>False</td>\n",
       "    </tr>\n",
       "    <tr>\n",
       "      <th>3</th>\n",
       "      <td>False</td>\n",
       "      <td>small</td>\n",
       "      <td>6.6271</td>\n",
       "      <td>6.5136</td>\n",
       "      <td>0.1135</td>\n",
       "      <td>True</td>\n",
       "    </tr>\n",
       "    <tr>\n",
       "      <th>4</th>\n",
       "      <td>False</td>\n",
       "      <td>small</td>\n",
       "      <td>92.3405</td>\n",
       "      <td>83.1018</td>\n",
       "      <td>9.2387</td>\n",
       "      <td>True</td>\n",
       "    </tr>\n",
       "  </tbody>\n",
       "</table>\n",
       "</div>"
      ],
      "text/plain": [
       "   treatment company_size  campaign_spend  campaign_budget  overspend_amt  \\\n",
       "0      False        small         10.4477           3.9035         6.5442   \n",
       "1      False       medium          3.7776           1.9872         1.7904   \n",
       "2      False       medium         46.1880          55.4523         0.0000   \n",
       "3      False        small          6.6271           6.5136         0.1135   \n",
       "4      False        small         92.3405          83.1018         9.2387   \n",
       "\n",
       "   overspend  \n",
       "0       True  \n",
       "1       True  \n",
       "2      False  \n",
       "3       True  \n",
       "4       True  "
      ]
     },
     "execution_count": 466,
     "metadata": {},
     "output_type": "execute_result"
    }
   ],
   "source": [
    "experiment.head()"
   ]
  },
  {
   "cell_type": "code",
   "execution_count": 467,
   "id": "0cc710ef",
   "metadata": {},
   "outputs": [
    {
     "data": {
      "text/plain": [
       "True     7741\n",
       "False    7733\n",
       "Name: treatment, dtype: int64"
      ]
     },
     "execution_count": 467,
     "metadata": {},
     "output_type": "execute_result"
    }
   ],
   "source": [
    "experiment_count = experiment.treatment.value_counts()\n",
    "experiment_count"
   ]
  },
  {
   "cell_type": "code",
   "execution_count": 468,
   "id": "c8cf8500",
   "metadata": {},
   "outputs": [
    {
     "data": {
      "image/png": "[encoded data removed]",
      "text/plain": [
       "<Figure size 432x288 with 1 Axes>"
      ]
     },
     "metadata": {
      "needs_background": "light"
     },
     "output_type": "display_data"
    }
   ],
   "source": [
    "ax = experiment_count.plot(kind='bar', color=color_lst[:2], title='A/B Group Count',\n",
    "                          xlabel='Group', ylabel='# of advertisers')\n",
    "\n",
    "ax.set_xticklabels(['treatment', 'control'], rotation=0)\n",
    "\n",
    "\n",
    "for p in ax.patches:\n",
    "    ax.annotate(p.get_height(), (p.get_x() + 0.15, p.get_height() - 500))\n",
    "\n",
    "fig = ax.get_figure()\n",
    "fig.savefig('../images/ab_count')"
   ]
  },
  {
   "cell_type": "code",
   "execution_count": 469,
   "id": "aa187ae1",
   "metadata": {},
   "outputs": [
    {
     "data": {
      "text/plain": [
       "treatment    0.500258\n",
       "control      0.499742\n",
       "Name: treatment, dtype: float64"
      ]
     },
     "execution_count": 469,
     "metadata": {},
     "output_type": "execute_result"
    }
   ],
   "source": [
    "mapping_dict = {True:'treatment', False:'control'}\n",
    "\n",
    "experiment_prop = experiment.treatment.value_counts(normalize=True).rename(index=mapping_dict)\n",
    "experiment_prop"
   ]
  },
  {
   "cell_type": "code",
   "execution_count": 561,
   "id": "b989c2e4",
   "metadata": {},
   "outputs": [
    {
     "data": {
      "text/plain": [
       "small     0.575223\n",
       "large     0.332558\n",
       "medium    0.092219\n",
       "Name: company_size, dtype: float64"
      ]
     },
     "execution_count": 561,
     "metadata": {},
     "output_type": "execute_result"
    }
   ],
   "source": [
    "#  Medium category is very undersampled relative to the small ad company size category (most likely based \n",
    "# off of their abundance in the population).\n",
    "company_size_prop = experiment.company_size.value_counts(normalize=True)\n",
    "company_size_prop"
   ]
  },
  {
   "cell_type": "code",
   "execution_count": 471,
   "id": "635f05b5",
   "metadata": {},
   "outputs": [
    {
     "data": {
      "image/png": "[encoded data removed]",
      "text/plain": [
       "<Figure size 432x288 with 1 Axes>"
      ]
     },
     "metadata": {},
     "output_type": "display_data"
    }
   ],
   "source": [
    "ax = company_size_prop.plot(kind='pie', autopct='%1.1f%%', title='Company Size Proportion')\n",
    "\n",
    "fig = ax.get_figure()\n",
    "fig.savefig('../images/company_size_pie');"
   ]
  },
  {
   "cell_type": "code",
   "execution_count": 472,
   "id": "7bc1bba3",
   "metadata": {},
   "outputs": [
    {
     "data": {
      "text/html": [
       "<div>\n",
       "<style scoped>\n",
       "    .dataframe tbody tr th:only-of-type {\n",
       "        vertical-align: middle;\n",
       "    }\n",
       "\n",
       "    .dataframe tbody tr th {\n",
       "        vertical-align: top;\n",
       "    }\n",
       "\n",
       "    .dataframe thead th {\n",
       "        text-align: right;\n",
       "    }\n",
       "</style>\n",
       "<table border=\"1\" class=\"dataframe\">\n",
       "  <thead>\n",
       "    <tr style=\"text-align: right;\">\n",
       "      <th>group</th>\n",
       "      <th>control</th>\n",
       "      <th>treatment</th>\n",
       "    </tr>\n",
       "    <tr>\n",
       "      <th>company_size</th>\n",
       "      <th></th>\n",
       "      <th></th>\n",
       "    </tr>\n",
       "  </thead>\n",
       "  <tbody>\n",
       "    <tr>\n",
       "      <th>large</th>\n",
       "      <td>0.524874</td>\n",
       "      <td>0.475126</td>\n",
       "    </tr>\n",
       "    <tr>\n",
       "      <th>medium</th>\n",
       "      <td>0.515067</td>\n",
       "      <td>0.484933</td>\n",
       "    </tr>\n",
       "    <tr>\n",
       "      <th>small</th>\n",
       "      <td>0.482755</td>\n",
       "      <td>0.517245</td>\n",
       "    </tr>\n",
       "  </tbody>\n",
       "</table>\n",
       "</div>"
      ],
      "text/plain": [
       "group          control  treatment\n",
       "company_size                     \n",
       "large         0.524874   0.475126\n",
       "medium        0.515067   0.484933\n",
       "small         0.482755   0.517245"
      ]
     },
     "execution_count": 472,
     "metadata": {},
     "output_type": "execute_result"
    }
   ],
   "source": [
    "company_size_prop_ab = pd.crosstab(experiment.company_size, experiment.treatment, colnames=['group'],\n",
    "                                normalize='index')\n",
    "company_size_prop_ab.rename(columns=mapping_dict, inplace=True)\n",
    "company_size_prop_ab"
   ]
  },
  {
   "cell_type": "code",
   "execution_count": 473,
   "id": "415a360f",
   "metadata": {},
   "outputs": [
    {
     "data": {
      "image/png": "[encoded data removed]",
      "text/plain": [
       "<Figure size 720x288 with 3 Axes>"
      ]
     },
     "metadata": {},
     "output_type": "display_data"
    }
   ],
   "source": [
    "# there is a slight imbalance in the split between the treatment group and the control group, particularly \n",
    "# in the large company size category\n",
    "ax = company_size_prop_ab.T.plot(kind='pie', autopct='%1.1f%%', title='Company Size Proportion', subplots=True, \n",
    "                           figsize=(10,4), labeldistance=None)\n"
   ]
  },
  {
   "cell_type": "code",
   "execution_count": 474,
   "id": "75d55cdf",
   "metadata": {},
   "outputs": [
    {
     "data": {
      "text/html": [
       "<div>\n",
       "<style scoped>\n",
       "    .dataframe tbody tr th:only-of-type {\n",
       "        vertical-align: middle;\n",
       "    }\n",
       "\n",
       "    .dataframe tbody tr th {\n",
       "        vertical-align: top;\n",
       "    }\n",
       "\n",
       "    .dataframe thead th {\n",
       "        text-align: right;\n",
       "    }\n",
       "</style>\n",
       "<table border=\"1\" class=\"dataframe\">\n",
       "  <thead>\n",
       "    <tr style=\"text-align: right;\">\n",
       "      <th>group</th>\n",
       "      <th>control</th>\n",
       "      <th>treatment</th>\n",
       "    </tr>\n",
       "    <tr>\n",
       "      <th>company_size</th>\n",
       "      <th></th>\n",
       "      <th></th>\n",
       "    </tr>\n",
       "  </thead>\n",
       "  <tbody>\n",
       "    <tr>\n",
       "      <th>large</th>\n",
       "      <td>2701</td>\n",
       "      <td>2445</td>\n",
       "    </tr>\n",
       "    <tr>\n",
       "      <th>medium</th>\n",
       "      <td>735</td>\n",
       "      <td>692</td>\n",
       "    </tr>\n",
       "    <tr>\n",
       "      <th>small</th>\n",
       "      <td>4297</td>\n",
       "      <td>4604</td>\n",
       "    </tr>\n",
       "  </tbody>\n",
       "</table>\n",
       "</div>"
      ],
      "text/plain": [
       "group         control  treatment\n",
       "company_size                    \n",
       "large            2701       2445\n",
       "medium            735        692\n",
       "small            4297       4604"
      ]
     },
     "execution_count": 474,
     "metadata": {},
     "output_type": "execute_result"
    }
   ],
   "source": [
    "company_size_count_ab = pd.crosstab(experiment.company_size, experiment.treatment, colnames=['group'])\n",
    "company_size_count_ab.rename(columns=mapping_dict, inplace=True)\n",
    "company_size_count_ab"
   ]
  },
  {
   "cell_type": "code",
   "execution_count": 475,
   "id": "ca65ea92",
   "metadata": {},
   "outputs": [
    {
     "data": {
      "text/plain": [
       "''"
      ]
     },
     "execution_count": 475,
     "metadata": {},
     "output_type": "execute_result"
    },
    {
     "data": {
      "image/png": "[encoded data removed]",
      "text/plain": [
       "<Figure size 1080x432 with 2 Axes>"
      ]
     },
     "metadata": {
      "needs_background": "light"
     },
     "output_type": "display_data"
    }
   ],
   "source": [
    "fig, axs = plt.subplots(1, 2, figsize=(15,6))\n",
    "\n",
    "for idx, (df_summary, sign) in enumerate(zip([company_size_count_ab, company_size_prop_ab], ['#', '%'])):\n",
    "    axs[idx].bar(df_summary.index, df_summary.treatment, label='treatment')\n",
    "    axs[idx].bar(df_summary.index, df_summary.control, bottom=df_summary.treatment, \n",
    "           label='control')\n",
    "\n",
    "    axs[idx].set_title(f'A/B Group by Company Size ({sign})')\n",
    "    axs[idx].legend()\n",
    "    \n",
    "\n",
    "fig.savefig(f'../images/ab_by_company_size.jpg')\n",
    "\n",
    ";\n"
   ]
  },
  {
   "cell_type": "code",
   "execution_count": 476,
   "id": "2f224071",
   "metadata": {},
   "outputs": [],
   "source": [
    "def plot_distribution(ab_df, col_name, title, separation_quantile):\n",
    "    \n",
    "#     print(f'The separation frequency is at ${df[col_name].quantile(separation_quantile):.1f}')\n",
    "    fig, axs = plt.subplots(2, 2, figsize=(12,8), tight_layout=True)\n",
    "    \n",
    "    for idx, version in enumerate([True, False]):\n",
    "        df = ab_df[ab_df.treatment == version]\n",
    "\n",
    "\n",
    "        # create a new dataframe with the data below than the separation quantile of the given column \n",
    "        lower_bound_dist = df[col_name][(df[col_name] < df[col_name].quantile(separation_quantile))]\n",
    "\n",
    "        # create another dataframe with the data higher than the separation quantile of the given column \n",
    "        upper_bound_dist = df[col_name][(df[col_name] >= df[col_name].quantile(separation_quantile))]\n",
    "\n",
    "\n",
    "        \n",
    "\n",
    "\n",
    "        # plot the lower bound distribution and median\n",
    "        axs[0,idx].hist(lower_bound_dist, color=color_lst[idx]) \n",
    "        axs[0,idx].axvline(df[col_name].quantile(0.5), color='black', ls='--', \n",
    "                      label=f'median = {df[col_name].median():.1f}')\n",
    "\n",
    "        axs[0,idx].set_ylabel('frequency')\n",
    "        axs[0,idx].set_xlabel(col_name)\n",
    "        axs[0,idx].set_title(f'{separation_quantile*100:.0f}% of the Data Distribution', fontsize=14)\n",
    "        axs[0,idx].legend()\n",
    "\n",
    "        # plot the upper bound distribution and mean    \n",
    "        axs[1,idx].hist(upper_bound_dist, color=color_lst[idx])\n",
    "        axs[1,idx].axvline(df[col_name].mean(), color='black', ls='--', \n",
    "                      label=f'mean = {df[col_name].mean():.1f}', alpha=0.5)\n",
    "\n",
    "        axs[1,idx].set_ylabel('frequency')\n",
    "        axs[1,idx].set_xlabel(col_name)\n",
    "        axs[1,idx].set_title(f'{100-separation_quantile*100:.0f}% of the Tail Data Distributiion', fontsize=14)\n",
    "        axs[1,idx].legend()\n",
    "    \n",
    "    fig.suptitle(title + ' Treatment vs Control Group', fontsize=14)\n",
    "    \n",
    "    fig.savefig(f'../images/{col_name}_distribution.jpg')\n",
    "    ;\n"
   ]
  },
  {
   "cell_type": "code",
   "execution_count": 477,
   "id": "df196266",
   "metadata": {},
   "outputs": [
    {
     "data": {
      "text/html": [
       "<div>\n",
       "<style scoped>\n",
       "    .dataframe tbody tr th:only-of-type {\n",
       "        vertical-align: middle;\n",
       "    }\n",
       "\n",
       "    .dataframe tbody tr th {\n",
       "        vertical-align: top;\n",
       "    }\n",
       "\n",
       "    .dataframe thead th {\n",
       "        text-align: right;\n",
       "    }\n",
       "</style>\n",
       "<table border=\"1\" class=\"dataframe\">\n",
       "  <thead>\n",
       "    <tr style=\"text-align: right;\">\n",
       "      <th></th>\n",
       "      <th>campaign_spend</th>\n",
       "      <th>campaign_budget</th>\n",
       "      <th>overspend_amt</th>\n",
       "    </tr>\n",
       "  </thead>\n",
       "  <tbody>\n",
       "    <tr>\n",
       "      <th>count</th>\n",
       "      <td>15474.0</td>\n",
       "      <td>15474.0</td>\n",
       "      <td>15474.0</td>\n",
       "    </tr>\n",
       "    <tr>\n",
       "      <th>mean</th>\n",
       "      <td>4903.0</td>\n",
       "      <td>5772.6</td>\n",
       "      <td>341.5</td>\n",
       "    </tr>\n",
       "    <tr>\n",
       "      <th>std</th>\n",
       "      <td>65166.9</td>\n",
       "      <td>99033.8</td>\n",
       "      <td>4079.1</td>\n",
       "    </tr>\n",
       "    <tr>\n",
       "      <th>min</th>\n",
       "      <td>0.4</td>\n",
       "      <td>0.1</td>\n",
       "      <td>0.0</td>\n",
       "    </tr>\n",
       "    <tr>\n",
       "      <th>25%</th>\n",
       "      <td>15.2</td>\n",
       "      <td>12.8</td>\n",
       "      <td>0.1</td>\n",
       "    </tr>\n",
       "    <tr>\n",
       "      <th>50%</th>\n",
       "      <td>50.1</td>\n",
       "      <td>48.8</td>\n",
       "      <td>2.2</td>\n",
       "    </tr>\n",
       "    <tr>\n",
       "      <th>75%</th>\n",
       "      <td>236.5</td>\n",
       "      <td>252.3</td>\n",
       "      <td>7.8</td>\n",
       "    </tr>\n",
       "    <tr>\n",
       "      <th>max</th>\n",
       "      <td>5289216.9</td>\n",
       "      <td>10242888.2</td>\n",
       "      <td>288590.2</td>\n",
       "    </tr>\n",
       "  </tbody>\n",
       "</table>\n",
       "</div>"
      ],
      "text/plain": [
       "      campaign_spend campaign_budget overspend_amt\n",
       "count        15474.0         15474.0       15474.0\n",
       "mean          4903.0          5772.6         341.5\n",
       "std          65166.9         99033.8        4079.1\n",
       "min              0.4             0.1           0.0\n",
       "25%             15.2            12.8           0.1\n",
       "50%             50.1            48.8           2.2\n",
       "75%            236.5           252.3           7.8\n",
       "max        5289216.9      10242888.2      288590.2"
      ]
     },
     "execution_count": 477,
     "metadata": {},
     "output_type": "execute_result"
    }
   ],
   "source": [
    "experiment.describe().apply(lambda d: d.apply('{0:.1f}'.format))"
   ]
  },
  {
   "cell_type": "code",
   "execution_count": 478,
   "id": "e67a8ed0",
   "metadata": {},
   "outputs": [
    {
     "data": {
      "image/png": "[encoded data removed]",
      "text/plain": [
       "<Figure size 864x576 with 4 Axes>"
      ]
     },
     "metadata": {
      "needs_background": "light"
     },
     "output_type": "display_data"
    }
   ],
   "source": [
    "plot_distribution(experiment, 'campaign_spend', title='Campaign Spend Distribution ',\n",
    "                  separation_quantile=0.8)"
   ]
  },
  {
   "cell_type": "code",
   "execution_count": 479,
   "id": "9c64eaa9",
   "metadata": {},
   "outputs": [
    {
     "data": {
      "image/png": "[encoded data removed]",
      "text/plain": [
       "<Figure size 864x576 with 4 Axes>"
      ]
     },
     "metadata": {
      "needs_background": "light"
     },
     "output_type": "display_data"
    }
   ],
   "source": [
    "plot_distribution(experiment, 'campaign_budget', title='Campaign Budget Distribution', separation_quantile=0.8)"
   ]
  },
  {
   "cell_type": "code",
   "execution_count": 480,
   "id": "2dab39e2",
   "metadata": {},
   "outputs": [
    {
     "data": {
      "image/png": "[encoded data removed]",
      "text/plain": [
       "<Figure size 864x576 with 4 Axes>"
      ]
     },
     "metadata": {
      "needs_background": "light"
     },
     "output_type": "display_data"
    }
   ],
   "source": [
    "plot_distribution(experiment, 'overspend_amt', title='Twitter Overspending Distribution', separation_quantile=0.8)"
   ]
  },
  {
   "cell_type": "code",
   "execution_count": 484,
   "id": "23b0d8ec",
   "metadata": {},
   "outputs": [],
   "source": [
    "experiment['overbudget_pct'] = experiment.overspend_amt / experiment.campaign_budget * 100"
   ]
  },
  {
   "cell_type": "code",
   "execution_count": 511,
   "id": "9ba92a9c",
   "metadata": {},
   "outputs": [
    {
     "data": {
      "image/png": "[encoded data removed]",
      "text/plain": [
       "<Figure size 864x576 with 4 Axes>"
      ]
     },
     "metadata": {
      "needs_background": "light"
     },
     "output_type": "display_data"
    }
   ],
   "source": [
    "plot_distribution(experiment, 'overbudget_pct', title='Spending Over Budget (%) Distribution', \n",
    "                  separation_quantile=0.8)"
   ]
  },
  {
   "cell_type": "code",
   "execution_count": 485,
   "id": "6ca5b2db",
   "metadata": {},
   "outputs": [
    {
     "data": {
      "text/html": [
       "<div>\n",
       "<style scoped>\n",
       "    .dataframe tbody tr th:only-of-type {\n",
       "        vertical-align: middle;\n",
       "    }\n",
       "\n",
       "    .dataframe tbody tr th {\n",
       "        vertical-align: top;\n",
       "    }\n",
       "\n",
       "    .dataframe thead th {\n",
       "        text-align: right;\n",
       "    }\n",
       "</style>\n",
       "<table border=\"1\" class=\"dataframe\">\n",
       "  <thead>\n",
       "    <tr style=\"text-align: right;\">\n",
       "      <th></th>\n",
       "      <th>treatment</th>\n",
       "      <th>company_size</th>\n",
       "      <th>campaign_spend</th>\n",
       "      <th>campaign_budget</th>\n",
       "      <th>overspend_amt</th>\n",
       "      <th>overspend</th>\n",
       "      <th>overbudget_pct</th>\n",
       "    </tr>\n",
       "  </thead>\n",
       "  <tbody>\n",
       "    <tr>\n",
       "      <th>0</th>\n",
       "      <td>False</td>\n",
       "      <td>small</td>\n",
       "      <td>10.4477</td>\n",
       "      <td>3.9035</td>\n",
       "      <td>6.5442</td>\n",
       "      <td>True</td>\n",
       "      <td>167.649545</td>\n",
       "    </tr>\n",
       "    <tr>\n",
       "      <th>1</th>\n",
       "      <td>False</td>\n",
       "      <td>medium</td>\n",
       "      <td>3.7776</td>\n",
       "      <td>1.9872</td>\n",
       "      <td>1.7904</td>\n",
       "      <td>True</td>\n",
       "      <td>90.096618</td>\n",
       "    </tr>\n",
       "    <tr>\n",
       "      <th>2</th>\n",
       "      <td>False</td>\n",
       "      <td>medium</td>\n",
       "      <td>46.1880</td>\n",
       "      <td>55.4523</td>\n",
       "      <td>0.0000</td>\n",
       "      <td>False</td>\n",
       "      <td>0.000000</td>\n",
       "    </tr>\n",
       "    <tr>\n",
       "      <th>3</th>\n",
       "      <td>False</td>\n",
       "      <td>small</td>\n",
       "      <td>6.6271</td>\n",
       "      <td>6.5136</td>\n",
       "      <td>0.1135</td>\n",
       "      <td>True</td>\n",
       "      <td>1.742508</td>\n",
       "    </tr>\n",
       "    <tr>\n",
       "      <th>4</th>\n",
       "      <td>False</td>\n",
       "      <td>small</td>\n",
       "      <td>92.3405</td>\n",
       "      <td>83.1018</td>\n",
       "      <td>9.2387</td>\n",
       "      <td>True</td>\n",
       "      <td>11.117328</td>\n",
       "    </tr>\n",
       "  </tbody>\n",
       "</table>\n",
       "</div>"
      ],
      "text/plain": [
       "   treatment company_size  campaign_spend  campaign_budget  overspend_amt  \\\n",
       "0      False        small         10.4477           3.9035         6.5442   \n",
       "1      False       medium          3.7776           1.9872         1.7904   \n",
       "2      False       medium         46.1880          55.4523         0.0000   \n",
       "3      False        small          6.6271           6.5136         0.1135   \n",
       "4      False        small         92.3405          83.1018         9.2387   \n",
       "\n",
       "   overspend  overbudget_pct  \n",
       "0       True      167.649545  \n",
       "1       True       90.096618  \n",
       "2      False        0.000000  \n",
       "3       True        1.742508  \n",
       "4       True       11.117328  "
      ]
     },
     "execution_count": 485,
     "metadata": {},
     "output_type": "execute_result"
    }
   ],
   "source": [
    "experiment.head()"
   ]
  },
  {
   "cell_type": "code",
   "execution_count": 486,
   "id": "43b6899a",
   "metadata": {},
   "outputs": [
    {
     "data": {
      "text/html": [
       "<div>\n",
       "<style scoped>\n",
       "    .dataframe tbody tr th:only-of-type {\n",
       "        vertical-align: middle;\n",
       "    }\n",
       "\n",
       "    .dataframe tbody tr th {\n",
       "        vertical-align: top;\n",
       "    }\n",
       "\n",
       "    .dataframe thead th {\n",
       "        text-align: right;\n",
       "    }\n",
       "</style>\n",
       "<table border=\"1\" class=\"dataframe\">\n",
       "  <thead>\n",
       "    <tr style=\"text-align: right;\">\n",
       "      <th></th>\n",
       "      <th>count</th>\n",
       "      <th>overspend_count</th>\n",
       "      <th>overspend_proportion</th>\n",
       "    </tr>\n",
       "    <tr>\n",
       "      <th>treatment</th>\n",
       "      <th></th>\n",
       "      <th></th>\n",
       "      <th></th>\n",
       "    </tr>\n",
       "  </thead>\n",
       "  <tbody>\n",
       "    <tr>\n",
       "      <th>control</th>\n",
       "      <td>7733</td>\n",
       "      <td>6257</td>\n",
       "      <td>0.809130</td>\n",
       "    </tr>\n",
       "    <tr>\n",
       "      <th>treatment</th>\n",
       "      <td>7741</td>\n",
       "      <td>5721</td>\n",
       "      <td>0.739052</td>\n",
       "    </tr>\n",
       "  </tbody>\n",
       "</table>\n",
       "</div>"
      ],
      "text/plain": [
       "           count  overspend_count  overspend_proportion\n",
       "treatment                                              \n",
       "control     7733             6257              0.809130\n",
       "treatment   7741             5721              0.739052"
      ]
     },
     "execution_count": 486,
     "metadata": {},
     "output_type": "execute_result"
    }
   ],
   "source": [
    "experiment.groupby('treatment').agg(\n",
    "    count = ('overspend', 'count'),\n",
    "    overspend_count = ('overspend', 'sum'),\n",
    "    overspend_proportion = ('overspend', 'mean')).rename(index=mapping_dict)"
   ]
  },
  {
   "cell_type": "code",
   "execution_count": 488,
   "id": "9db96db4",
   "metadata": {},
   "outputs": [
    {
     "data": {
      "text/html": [
       "<div>\n",
       "<style scoped>\n",
       "    .dataframe tbody tr th:only-of-type {\n",
       "        vertical-align: middle;\n",
       "    }\n",
       "\n",
       "    .dataframe tbody tr th {\n",
       "        vertical-align: top;\n",
       "    }\n",
       "\n",
       "    .dataframe thead th {\n",
       "        text-align: right;\n",
       "    }\n",
       "</style>\n",
       "<table border=\"1\" class=\"dataframe\">\n",
       "  <thead>\n",
       "    <tr style=\"text-align: right;\">\n",
       "      <th></th>\n",
       "      <th>overspend_count</th>\n",
       "      <th>avg_overbudget_pct</th>\n",
       "    </tr>\n",
       "    <tr>\n",
       "      <th>treatment</th>\n",
       "      <th></th>\n",
       "      <th></th>\n",
       "    </tr>\n",
       "  </thead>\n",
       "  <tbody>\n",
       "    <tr>\n",
       "      <th>control</th>\n",
       "      <td>6257</td>\n",
       "      <td>31.323029</td>\n",
       "    </tr>\n",
       "    <tr>\n",
       "      <th>treatment</th>\n",
       "      <td>5721</td>\n",
       "      <td>25.933369</td>\n",
       "    </tr>\n",
       "  </tbody>\n",
       "</table>\n",
       "</div>"
      ],
      "text/plain": [
       "           overspend_count  avg_overbudget_pct\n",
       "treatment                                     \n",
       "control               6257           31.323029\n",
       "treatment             5721           25.933369"
      ]
     },
     "execution_count": 488,
     "metadata": {},
     "output_type": "execute_result"
    }
   ],
   "source": [
    "experiment.groupby('treatment').agg(\n",
    "    overspend_count = ('overspend', 'sum'),\n",
    "    avg_overbudget_pct = ('overbudget_pct', 'mean')).rename(index=mapping_dict)"
   ]
  },
  {
   "cell_type": "markdown",
   "id": "0c9a2fbc",
   "metadata": {},
   "source": [
    "## Part 2. Q1. No of Campaigns with ≥ 1% Overbudget"
   ]
  },
  {
   "cell_type": "code",
   "execution_count": 490,
   "id": "a6fc8511",
   "metadata": {},
   "outputs": [
    {
     "data": {
      "text/html": [
       "<div>\n",
       "<style scoped>\n",
       "    .dataframe tbody tr th:only-of-type {\n",
       "        vertical-align: middle;\n",
       "    }\n",
       "\n",
       "    .dataframe tbody tr th {\n",
       "        vertical-align: top;\n",
       "    }\n",
       "\n",
       "    .dataframe thead th {\n",
       "        text-align: right;\n",
       "    }\n",
       "</style>\n",
       "<table border=\"1\" class=\"dataframe\">\n",
       "  <thead>\n",
       "    <tr style=\"text-align: right;\">\n",
       "      <th></th>\n",
       "      <th>gt_1pct_overbudget_count</th>\n",
       "      <th>avg_overspend_pct</th>\n",
       "    </tr>\n",
       "    <tr>\n",
       "      <th>treatment</th>\n",
       "      <th></th>\n",
       "      <th></th>\n",
       "    </tr>\n",
       "  </thead>\n",
       "  <tbody>\n",
       "    <tr>\n",
       "      <th>control</th>\n",
       "      <td>5716</td>\n",
       "      <td>42.330107</td>\n",
       "    </tr>\n",
       "    <tr>\n",
       "      <th>treatment</th>\n",
       "      <td>5180</td>\n",
       "      <td>38.705676</td>\n",
       "    </tr>\n",
       "  </tbody>\n",
       "</table>\n",
       "</div>"
      ],
      "text/plain": [
       "           gt_1pct_overbudget_count  avg_overspend_pct\n",
       "treatment                                             \n",
       "control                        5716          42.330107\n",
       "treatment                      5180          38.705676"
      ]
     },
     "execution_count": 490,
     "metadata": {},
     "output_type": "execute_result"
    }
   ],
   "source": [
    "overpend_greater_1pct = experiment[(experiment.overbudget_pct > 1)].groupby('treatment').agg(\n",
    "                            gt_1pct_overbudget_count = ('overspend', 'count'),\n",
    "                            avg_overspend_pct = ('overbudget_pct', 'mean'))\n",
    "\n",
    "overpend_greater_1pct = overpend_greater_1pct.rename(index=mapping_dict)\n",
    "\n",
    "overpend_greater_1pct"
   ]
  },
  {
   "cell_type": "code",
   "execution_count": 491,
   "id": "b3ed836e",
   "metadata": {},
   "outputs": [
    {
     "data": {
      "text/html": [
       "<div>\n",
       "<style scoped>\n",
       "    .dataframe tbody tr th:only-of-type {\n",
       "        vertical-align: middle;\n",
       "    }\n",
       "\n",
       "    .dataframe tbody tr th {\n",
       "        vertical-align: top;\n",
       "    }\n",
       "\n",
       "    .dataframe thead th {\n",
       "        text-align: right;\n",
       "    }\n",
       "</style>\n",
       "<table border=\"1\" class=\"dataframe\">\n",
       "  <thead>\n",
       "    <tr style=\"text-align: right;\">\n",
       "      <th></th>\n",
       "      <th></th>\n",
       "      <th>gt_1pct_overbudget_count</th>\n",
       "      <th>avg_overbudget_pct</th>\n",
       "      <th>avg_overspend_amt</th>\n",
       "      <th>total_overspend_amt</th>\n",
       "    </tr>\n",
       "    <tr>\n",
       "      <th>treatment</th>\n",
       "      <th>company_size</th>\n",
       "      <th></th>\n",
       "      <th></th>\n",
       "      <th></th>\n",
       "      <th></th>\n",
       "    </tr>\n",
       "  </thead>\n",
       "  <tbody>\n",
       "    <tr>\n",
       "      <th rowspan=\"3\" valign=\"top\">control</th>\n",
       "      <th>large</th>\n",
       "      <td>1875</td>\n",
       "      <td>28</td>\n",
       "      <td>781</td>\n",
       "      <td>1463808</td>\n",
       "    </tr>\n",
       "    <tr>\n",
       "      <th>medium</th>\n",
       "      <td>452</td>\n",
       "      <td>21</td>\n",
       "      <td>224</td>\n",
       "      <td>101323</td>\n",
       "    </tr>\n",
       "    <tr>\n",
       "      <th>small</th>\n",
       "      <td>3389</td>\n",
       "      <td>53</td>\n",
       "      <td>247</td>\n",
       "      <td>837792</td>\n",
       "    </tr>\n",
       "    <tr>\n",
       "      <th rowspan=\"3\" valign=\"top\">treatment</th>\n",
       "      <th>large</th>\n",
       "      <td>1504</td>\n",
       "      <td>21</td>\n",
       "      <td>704</td>\n",
       "      <td>1059051</td>\n",
       "    </tr>\n",
       "    <tr>\n",
       "      <th>medium</th>\n",
       "      <td>414</td>\n",
       "      <td>25</td>\n",
       "      <td>389</td>\n",
       "      <td>161186</td>\n",
       "    </tr>\n",
       "    <tr>\n",
       "      <th>small</th>\n",
       "      <td>3262</td>\n",
       "      <td>49</td>\n",
       "      <td>497</td>\n",
       "      <td>1620581</td>\n",
       "    </tr>\n",
       "  </tbody>\n",
       "</table>\n",
       "</div>"
      ],
      "text/plain": [
       "                       gt_1pct_overbudget_count avg_overbudget_pct  \\\n",
       "treatment company_size                                               \n",
       "control   large                            1875                 28   \n",
       "          medium                            452                 21   \n",
       "          small                            3389                 53   \n",
       "treatment large                            1504                 21   \n",
       "          medium                            414                 25   \n",
       "          small                            3262                 49   \n",
       "\n",
       "                       avg_overspend_amt total_overspend_amt  \n",
       "treatment company_size                                        \n",
       "control   large                      781             1463808  \n",
       "          medium                     224              101323  \n",
       "          small                      247              837792  \n",
       "treatment large                      704             1059051  \n",
       "          medium                     389              161186  \n",
       "          small                      497             1620581  "
      ]
     },
     "execution_count": 491,
     "metadata": {},
     "output_type": "execute_result"
    }
   ],
   "source": [
    "overpend_greater_1pct_by_companysize = experiment[(experiment.overbudget_pct > 1)].groupby(\n",
    "                                            ['treatment', 'company_size']).agg(\n",
    "                                            gt_1pct_overbudget_count = ('overspend', 'count'),\n",
    "                                            avg_overbudget_pct = ('overbudget_pct', 'mean'),\n",
    "                                            avg_overspend_amt = ('overspend_amt', 'mean'),\n",
    "                                            total_overspend_amt = ('overspend_amt', 'sum')\n",
    "                                            )\n",
    "\n",
    "overpend_greater_1pct_by_companysize = overpend_greater_1pct_by_companysize.apply(\n",
    "                        lambda d: d.apply('{0:.0f}'.format)).rename(index=mapping_dict)\n",
    "\n",
    "overpend_greater_1pct_by_companysize"
   ]
  },
  {
   "cell_type": "markdown",
   "id": "ea47a906",
   "metadata": {},
   "source": [
    "## Part 2. Q2. Effectiveness of New Product"
   ]
  },
  {
   "cell_type": "code",
   "execution_count": 514,
   "id": "a1a1ce8f",
   "metadata": {},
   "outputs": [
    {
     "data": {
      "text/html": [
       "<div>\n",
       "<style scoped>\n",
       "    .dataframe tbody tr th:only-of-type {\n",
       "        vertical-align: middle;\n",
       "    }\n",
       "\n",
       "    .dataframe tbody tr th {\n",
       "        vertical-align: top;\n",
       "    }\n",
       "\n",
       "    .dataframe thead th {\n",
       "        text-align: right;\n",
       "    }\n",
       "</style>\n",
       "<table border=\"1\" class=\"dataframe\">\n",
       "  <thead>\n",
       "    <tr style=\"text-align: right;\">\n",
       "      <th></th>\n",
       "      <th>treatment</th>\n",
       "      <th>company_size</th>\n",
       "      <th>campaign_spend</th>\n",
       "      <th>campaign_budget</th>\n",
       "      <th>overspend_amt</th>\n",
       "      <th>overspend</th>\n",
       "      <th>overbudget_pct</th>\n",
       "    </tr>\n",
       "  </thead>\n",
       "  <tbody>\n",
       "    <tr>\n",
       "      <th>0</th>\n",
       "      <td>False</td>\n",
       "      <td>small</td>\n",
       "      <td>10.4477</td>\n",
       "      <td>3.9035</td>\n",
       "      <td>6.5442</td>\n",
       "      <td>True</td>\n",
       "      <td>167.649545</td>\n",
       "    </tr>\n",
       "    <tr>\n",
       "      <th>1</th>\n",
       "      <td>False</td>\n",
       "      <td>medium</td>\n",
       "      <td>3.7776</td>\n",
       "      <td>1.9872</td>\n",
       "      <td>1.7904</td>\n",
       "      <td>True</td>\n",
       "      <td>90.096618</td>\n",
       "    </tr>\n",
       "  </tbody>\n",
       "</table>\n",
       "</div>"
      ],
      "text/plain": [
       "   treatment company_size  campaign_spend  campaign_budget  overspend_amt  \\\n",
       "0      False        small         10.4477           3.9035         6.5442   \n",
       "1      False       medium          3.7776           1.9872         1.7904   \n",
       "\n",
       "   overspend  overbudget_pct  \n",
       "0       True      167.649545  \n",
       "1       True       90.096618  "
      ]
     },
     "execution_count": 514,
     "metadata": {},
     "output_type": "execute_result"
    }
   ],
   "source": [
    "experiment.head(2)"
   ]
  },
  {
   "cell_type": "code",
   "execution_count": 534,
   "id": "c9c76864",
   "metadata": {},
   "outputs": [
    {
     "data": {
      "text/plain": [
       "treatment    7741\n",
       "control      7733\n",
       "Name: treatment, dtype: int64"
      ]
     },
     "execution_count": 534,
     "metadata": {},
     "output_type": "execute_result"
    }
   ],
   "source": [
    "# shows the number of advertisers that fell into each variant, with 7733 in control and 7741 in treatment\n",
    "# as we recall above, with a ratio of 49.97% and 50.02% respectively. \n",
    "experiment_count.rename(index=mapping_dict)"
   ]
  },
  {
   "cell_type": "code",
   "execution_count": 604,
   "id": "8c7bac0e",
   "metadata": {},
   "outputs": [
    {
     "data": {
      "text/plain": [
       "7737"
      ]
     },
     "execution_count": 604,
     "metadata": {},
     "output_type": "execute_result"
    }
   ],
   "source": [
    "sample_size = ceil(experiment.shape[0]/2)\n",
    "sample_size"
   ]
  },
  {
   "cell_type": "markdown",
   "id": "caf13e95",
   "metadata": {},
   "source": [
    "We will do a Chi-Square Goodness of Fit Test to decide if Decide if one variable is likely to come from a given distribution or not. \n",
    "\n",
    "$H_o$: proportion of treatment groups are the same <br>\n",
    "\n",
    "$H_a$: proportions of treatment groups are not the same\n",
    "\n",
    "With alpha set at 0.1% and degrees of freedom at 1 (no of categories - 1), therfore delta degrees of freedom as 0"
   ]
  },
  {
   "cell_type": "code",
   "execution_count": 648,
   "id": "50305955",
   "metadata": {},
   "outputs": [
    {
     "data": {
      "text/plain": [
       "Power_divergenceResult(statistic=0.004135970014217397, pvalue=0.9487221906574269)"
      ]
     },
     "execution_count": 648,
     "metadata": {},
     "output_type": "execute_result"
    }
   ],
   "source": [
    "stats.chisquare(f_obs=experiment_count.values, f_exp=[sample_size, sample_size], ddof=0)"
   ]
  },
  {
   "cell_type": "markdown",
   "id": "dc65a99c",
   "metadata": {},
   "source": [
    "The one-way chi-square test tests for Sample Ratio Mismatch. Since the p value is 0.95, we fail to reject the null hypothesis and conclude **no evidence of SRM**. In other words, treatment assignment works as expected.\n"
   ]
  },
  {
   "cell_type": "code",
   "execution_count": 547,
   "id": "fc73167c",
   "metadata": {},
   "outputs": [
    {
     "data": {
      "text/html": [
       "<div>\n",
       "<style scoped>\n",
       "    .dataframe tbody tr th:only-of-type {\n",
       "        vertical-align: middle;\n",
       "    }\n",
       "\n",
       "    .dataframe tbody tr th {\n",
       "        vertical-align: top;\n",
       "    }\n",
       "\n",
       "    .dataframe thead th {\n",
       "        text-align: right;\n",
       "    }\n",
       "</style>\n",
       "<table border=\"1\" class=\"dataframe\">\n",
       "  <thead>\n",
       "    <tr style=\"text-align: right;\">\n",
       "      <th></th>\n",
       "      <th>overspend_amt</th>\n",
       "    </tr>\n",
       "    <tr>\n",
       "      <th>treatment</th>\n",
       "      <th></th>\n",
       "    </tr>\n",
       "  </thead>\n",
       "  <tbody>\n",
       "    <tr>\n",
       "      <th>control</th>\n",
       "      <td>311.744962</td>\n",
       "    </tr>\n",
       "    <tr>\n",
       "      <th>treatment</th>\n",
       "      <td>371.204552</td>\n",
       "    </tr>\n",
       "  </tbody>\n",
       "</table>\n",
       "</div>"
      ],
      "text/plain": [
       "           overspend_amt\n",
       "treatment               \n",
       "control       311.744962\n",
       "treatment     371.204552"
      ]
     },
     "execution_count": 547,
     "metadata": {},
     "output_type": "execute_result"
    }
   ],
   "source": [
    "experiment.groupby('treatment')[['overspend_amt']].mean().rename(index=mapping_dict)\n"
   ]
  },
  {
   "cell_type": "code",
   "execution_count": 548,
   "id": "cb82ff2b",
   "metadata": {},
   "outputs": [
    {
     "data": {
      "text/html": [
       "<div>\n",
       "<style scoped>\n",
       "    .dataframe tbody tr th:only-of-type {\n",
       "        vertical-align: middle;\n",
       "    }\n",
       "\n",
       "    .dataframe tbody tr th {\n",
       "        vertical-align: top;\n",
       "    }\n",
       "\n",
       "    .dataframe thead th {\n",
       "        text-align: right;\n",
       "    }\n",
       "</style>\n",
       "<table border=\"1\" class=\"dataframe\">\n",
       "  <thead>\n",
       "    <tr style=\"text-align: right;\">\n",
       "      <th></th>\n",
       "      <th>campaign_budget</th>\n",
       "    </tr>\n",
       "    <tr>\n",
       "      <th>treatment</th>\n",
       "      <th></th>\n",
       "    </tr>\n",
       "  </thead>\n",
       "  <tbody>\n",
       "    <tr>\n",
       "      <th>control</th>\n",
       "      <td>4641.827622</td>\n",
       "    </tr>\n",
       "    <tr>\n",
       "      <th>treatment</th>\n",
       "      <td>6902.232566</td>\n",
       "    </tr>\n",
       "  </tbody>\n",
       "</table>\n",
       "</div>"
      ],
      "text/plain": [
       "           campaign_budget\n",
       "treatment                 \n",
       "control        4641.827622\n",
       "treatment      6902.232566"
      ]
     },
     "execution_count": 548,
     "metadata": {},
     "output_type": "execute_result"
    }
   ],
   "source": [
    "experiment.groupby('treatment')[['campaign_budget']].mean().rename(index=mapping_dict)\n"
   ]
  },
  {
   "cell_type": "code",
   "execution_count": 549,
   "id": "3874d21a",
   "metadata": {},
   "outputs": [
    {
     "data": {
      "text/html": [
       "<div>\n",
       "<style scoped>\n",
       "    .dataframe tbody tr th:only-of-type {\n",
       "        vertical-align: middle;\n",
       "    }\n",
       "\n",
       "    .dataframe tbody tr th {\n",
       "        vertical-align: top;\n",
       "    }\n",
       "\n",
       "    .dataframe thead th {\n",
       "        text-align: right;\n",
       "    }\n",
       "</style>\n",
       "<table border=\"1\" class=\"dataframe\">\n",
       "  <thead>\n",
       "    <tr style=\"text-align: right;\">\n",
       "      <th></th>\n",
       "      <th>overbudget_pct</th>\n",
       "    </tr>\n",
       "    <tr>\n",
       "      <th>treatment</th>\n",
       "      <th></th>\n",
       "    </tr>\n",
       "  </thead>\n",
       "  <tbody>\n",
       "    <tr>\n",
       "      <th>control</th>\n",
       "      <td>31.323029</td>\n",
       "    </tr>\n",
       "    <tr>\n",
       "      <th>treatment</th>\n",
       "      <td>25.933369</td>\n",
       "    </tr>\n",
       "  </tbody>\n",
       "</table>\n",
       "</div>"
      ],
      "text/plain": [
       "           overbudget_pct\n",
       "treatment                \n",
       "control         31.323029\n",
       "treatment       25.933369"
      ]
     },
     "execution_count": 549,
     "metadata": {},
     "output_type": "execute_result"
    }
   ],
   "source": [
    "experiment.groupby('treatment')[['overbudget_pct']].mean().rename(index=mapping_dict)"
   ]
  },
  {
   "cell_type": "markdown",
   "id": "cebdf458",
   "metadata": {},
   "source": [
    "### Some questions that surfaces are:\n",
    "\n",
    "1. Treatment has a lower over budget spend ratio (0.26) than the control (0.31). Is the difference significant?\n",
    "2. To what extent can we trust the result?\n",
    "3. What is the variability of the difference?\n",
    "4. How many times do we obtain more extreme values, if we repeat the process for large number of times? "
   ]
  },
  {
   "cell_type": "code",
   "execution_count": 1154,
   "id": "22a20e18",
   "metadata": {},
   "outputs": [],
   "source": [
    "def generate_stratified_boootstrap_sample_stats(\n",
    "    df,\n",
    "    col_to_evaluate,\n",
    "    sample_size=7737,\n",
    "    strata_proportions=[1/3, 1/3, 1/3],\n",
    "    n_bootstrap_samples=10000):\n",
    "    \n",
    "    bootstrap_sample_stats = []\n",
    "    \n",
    "    \n",
    "    small_df = df.company_size[df.company_size == 'small']\n",
    "    medium_df = df.company_size[df.company_size == 'medium']\n",
    "    large_df = df.company_size[df.company_size == 'large']\n",
    "\n",
    "    \n",
    "    for i in range(n_bootstrap_samples):\n",
    "        stratified_idx = list(small_df.sample(int(sample_size*strata_proportions[0]), replace=True).index) \\\n",
    "                 + list(medium_df.sample(int(sample_size*strata_proportions[1]), replace=True).index) \\\n",
    "                 + list(large_df.sample(int(sample_size*strata_proportions[2]), replace=True).index) \n",
    "    \n",
    "        \n",
    "        stratified_bootstrap_sample = df.loc[stratified_idx,:]\n",
    "        \n",
    "        control_result = stratified_bootstrap_sample[stratified_bootstrap_sample.treatment == False]\n",
    "        treatment_result = stratified_bootstrap_sample[stratified_bootstrap_sample.treatment == True]\n",
    "        t_stat, p_val = stats.ttest_ind(control_result[col_to_evaluate], treatment_result[col_to_evaluate])\n",
    "        \n",
    "        bootstrap_result = {'control': control_result[col_to_evaluate].mean(),\n",
    "                           'treatment': treatment_result[col_to_evaluate].mean(),\n",
    "                           't_stat': t_stat,\n",
    "                           'p_val': p_val}\n",
    "        \n",
    "        bootstrap_sample_stats.append(bootstrap_result)\n",
    "\n",
    "        \n",
    "    return pd.DataFrame(bootstrap_sample_stats)\n",
    "\n",
    "\n"
   ]
  },
  {
   "cell_type": "code",
   "execution_count": 1220,
   "id": "65b0d222",
   "metadata": {},
   "outputs": [],
   "source": [
    "bootstrap_stats = generate_stratified_boootstrap_sample_stats(\n",
    "    experiment, 'overbudget_pct', sample_size, [1/3, 1/3, 1/3], 100)"
   ]
  },
  {
   "cell_type": "code",
   "execution_count": 1221,
   "id": "c3872bff",
   "metadata": {},
   "outputs": [
    {
     "data": {
      "text/html": [
       "<div>\n",
       "<style scoped>\n",
       "    .dataframe tbody tr th:only-of-type {\n",
       "        vertical-align: middle;\n",
       "    }\n",
       "\n",
       "    .dataframe tbody tr th {\n",
       "        vertical-align: top;\n",
       "    }\n",
       "\n",
       "    .dataframe thead th {\n",
       "        text-align: right;\n",
       "    }\n",
       "</style>\n",
       "<table border=\"1\" class=\"dataframe\">\n",
       "  <thead>\n",
       "    <tr style=\"text-align: right;\">\n",
       "      <th></th>\n",
       "      <th>control</th>\n",
       "      <th>treatment</th>\n",
       "      <th>t_stat</th>\n",
       "      <th>p_val</th>\n",
       "    </tr>\n",
       "  </thead>\n",
       "  <tbody>\n",
       "    <tr>\n",
       "      <th>0</th>\n",
       "      <td>24.082220</td>\n",
       "      <td>20.942912</td>\n",
       "      <td>3.356985</td>\n",
       "      <td>0.000790</td>\n",
       "    </tr>\n",
       "    <tr>\n",
       "      <th>1</th>\n",
       "      <td>23.692357</td>\n",
       "      <td>22.744991</td>\n",
       "      <td>1.009256</td>\n",
       "      <td>0.312868</td>\n",
       "    </tr>\n",
       "    <tr>\n",
       "      <th>2</th>\n",
       "      <td>24.582881</td>\n",
       "      <td>21.339606</td>\n",
       "      <td>3.439145</td>\n",
       "      <td>0.000585</td>\n",
       "    </tr>\n",
       "    <tr>\n",
       "      <th>3</th>\n",
       "      <td>24.829119</td>\n",
       "      <td>21.447740</td>\n",
       "      <td>3.601461</td>\n",
       "      <td>0.000317</td>\n",
       "    </tr>\n",
       "    <tr>\n",
       "      <th>4</th>\n",
       "      <td>23.396754</td>\n",
       "      <td>20.702705</td>\n",
       "      <td>2.939223</td>\n",
       "      <td>0.003295</td>\n",
       "    </tr>\n",
       "  </tbody>\n",
       "</table>\n",
       "</div>"
      ],
      "text/plain": [
       "     control  treatment    t_stat     p_val\n",
       "0  24.082220  20.942912  3.356985  0.000790\n",
       "1  23.692357  22.744991  1.009256  0.312868\n",
       "2  24.582881  21.339606  3.439145  0.000585\n",
       "3  24.829119  21.447740  3.601461  0.000317\n",
       "4  23.396754  20.702705  2.939223  0.003295"
      ]
     },
     "execution_count": 1221,
     "metadata": {},
     "output_type": "execute_result"
    }
   ],
   "source": [
    "bootstrap_stats.head()"
   ]
  },
  {
   "cell_type": "code",
   "execution_count": 1218,
   "id": "395a36b3",
   "metadata": {},
   "outputs": [
    {
     "data": {
      "text/plain": [
       "0     46.501335\n",
       "1      0.428949\n",
       "2      0.252140\n",
       "3     31.114590\n",
       "4     11.115265\n",
       "        ...    \n",
       "95    -0.786684\n",
       "96    58.083497\n",
       "97    18.913524\n",
       "98   -24.677895\n",
       "99    50.243047\n",
       "Length: 100, dtype: float64"
      ]
     },
     "execution_count": 1218,
     "metadata": {},
     "output_type": "execute_result"
    }
   ],
   "source": [
    "(bootstrap_stats.treatment - bootstrap_stats.control )/ bootstrap_stats.control * 100"
   ]
  },
  {
   "cell_type": "code",
   "execution_count": 1199,
   "id": "492104d4",
   "metadata": {},
   "outputs": [
    {
     "data": {
      "text/plain": [
       "0.24"
      ]
     },
     "execution_count": 1199,
     "metadata": {},
     "output_type": "execute_result"
    }
   ],
   "source": [
    "1 - 0.76"
   ]
  },
  {
   "cell_type": "code",
   "execution_count": 1214,
   "id": "e37a8fa2",
   "metadata": {},
   "outputs": [],
   "source": [
    "def plot_hist_dist(\n",
    "    df,\n",
    "    col_to_evaluate,\n",
    "    sample_size=7737,\n",
    "    strata_proportions=[1/3, 1/3, 1/3],\n",
    "    n_bootstrap_samples=10000):\n",
    "    \n",
    "    bootstrap_stats = generate_stratified_boootstrap_sample_stats(\n",
    "        df, col_to_evaluate, sample_size, strata_proportions, n_bootstrap_samples\n",
    "        )\n",
    "    \n",
    "    \n",
    "    fig, axs = plt.subplots(1, 3, figsize=(20,4))\n",
    "    \n",
    "    bootstrap_stats[['treatment', 'control']].plot(kind = 'kde', ax=axs[0])\n",
    "    \n",
    "    col_name = ' '.join(col_to_evaluate.split('_'))\n",
    "    axs[0].set_xlabel(col_name)\n",
    "    \n",
    "    \n",
    "    bootstrap_stats['diff'] = (bootstrap_stats.treatment - bootstrap_stats.control)\\\n",
    "                                 /bootstrap_stats.control * 100 \n",
    "\n",
    "    \n",
    "    bootstrap_stats['diff'].plot(kind = 'kde', ax=axs[1], color=color_lst[3])\n",
    "    \n",
    "    axs[1].set_xlabel('% diff in means')\n",
    "    \n",
    "    bootstrap_stats['p_val'].plot(kind = 'kde', ax=axs[2], color=color_lst[4])\n",
    "    axs[2].set_xlabel('p-values')\n",
    "    \n",
    "    \n",
    "    p = (bootstrap_stats['diff'] < 0).sum()/ len(bootstrap_stats)\n",
    "    print(f'Treatment has a better performance than the control on {col_name} {p*100:.2f}% of the time.')\n",
    "\n",
    "\n",
    "    \n",
    "\n"
   ]
  },
  {
   "cell_type": "code",
   "execution_count": 1215,
   "id": "be44becc",
   "metadata": {},
   "outputs": [
    {
     "name": "stdout",
     "output_type": "stream",
     "text": [
      "Treatment has a better performance than the control on overspend amt 21.00% of the time.\n"
     ]
    },
    {
     "data": {
      "image/png": "[encoded data removed]",
      "text/plain": [
       "<Figure size 1440x288 with 3 Axes>"
      ]
     },
     "metadata": {
      "needs_background": "light"
     },
     "output_type": "display_data"
    }
   ],
   "source": [
    "plot_hist_dist(experiment, 'overspend_amt', sample_size, [1/3, 1/3, 1/3], 100)"
   ]
  },
  {
   "cell_type": "code",
   "execution_count": 1216,
   "id": "3bf96b1e",
   "metadata": {},
   "outputs": [
    {
     "name": "stdout",
     "output_type": "stream",
     "text": [
      "Treatment has a better performance than the control on overbudget pct 100.00% of the time.\n"
     ]
    },
    {
     "data": {
      "image/png": "[encoded data removed]",
      "text/plain": [
       "<Figure size 1440x288 with 3 Axes>"
      ]
     },
     "metadata": {
      "needs_background": "light"
     },
     "output_type": "display_data"
    }
   ],
   "source": [
    "plot_hist_dist(experiment, 'overbudget_pct', sample_size, [1/3, 1/3, 1/3], 100)"
   ]
  },
  {
   "cell_type": "code",
   "execution_count": null,
   "id": "7c7819e7",
   "metadata": {},
   "outputs": [],
   "source": []
  },
  {
   "cell_type": "code",
   "execution_count": null,
   "id": "6050ac72",
   "metadata": {},
   "outputs": [],
   "source": []
  },
  {
   "cell_type": "code",
   "execution_count": null,
   "id": "ccc8d32a",
   "metadata": {},
   "outputs": [],
   "source": []
  },
  {
   "cell_type": "code",
   "execution_count": null,
   "id": "e3de886f",
   "metadata": {},
   "outputs": [],
   "source": []
  },
  {
   "cell_type": "code",
   "execution_count": null,
   "id": "8b08970e",
   "metadata": {},
   "outputs": [],
   "source": []
  },
  {
   "cell_type": "code",
   "execution_count": null,
   "id": "25d6fc94",
   "metadata": {},
   "outputs": [],
   "source": []
  },
  {
   "cell_type": "code",
   "execution_count": null,
   "id": "a6758f07",
   "metadata": {},
   "outputs": [],
   "source": []
  },
  {
   "cell_type": "code",
   "execution_count": null,
   "id": "4db6f83f",
   "metadata": {},
   "outputs": [],
   "source": []
  },
  {
   "cell_type": "code",
   "execution_count": null,
   "id": "fc470ba4",
   "metadata": {},
   "outputs": [],
   "source": []
  },
  {
   "cell_type": "code",
   "execution_count": null,
   "id": "b96fc479",
   "metadata": {},
   "outputs": [],
   "source": []
  },
  {
   "cell_type": "code",
   "execution_count": null,
   "id": "39045d61",
   "metadata": {},
   "outputs": [],
   "source": []
  },
  {
   "cell_type": "code",
   "execution_count": null,
   "id": "b1643d7c",
   "metadata": {},
   "outputs": [],
   "source": []
  },
  {
   "cell_type": "code",
   "execution_count": null,
   "id": "049cc576",
   "metadata": {},
   "outputs": [],
   "source": []
  },
  {
   "cell_type": "code",
   "execution_count": null,
   "id": "0c55c78a",
   "metadata": {},
   "outputs": [],
   "source": []
  },
  {
   "cell_type": "code",
   "execution_count": null,
   "id": "c59fab66",
   "metadata": {},
   "outputs": [],
   "source": []
  },
  {
   "cell_type": "code",
   "execution_count": null,
   "id": "f9b23764",
   "metadata": {},
   "outputs": [],
   "source": []
  },
  {
   "cell_type": "code",
   "execution_count": null,
   "id": "6a5768a7",
   "metadata": {},
   "outputs": [],
   "source": []
  },
  {
   "cell_type": "code",
   "execution_count": null,
   "id": "79306d0d",
   "metadata": {},
   "outputs": [],
   "source": []
  },
  {
   "cell_type": "code",
   "execution_count": 573,
   "id": "2fdc4f37",
   "metadata": {},
   "outputs": [
    {
     "data": {
      "text/html": [
       "<div>\n",
       "<style scoped>\n",
       "    .dataframe tbody tr th:only-of-type {\n",
       "        vertical-align: middle;\n",
       "    }\n",
       "\n",
       "    .dataframe tbody tr th {\n",
       "        vertical-align: top;\n",
       "    }\n",
       "\n",
       "    .dataframe thead th {\n",
       "        text-align: right;\n",
       "    }\n",
       "</style>\n",
       "<table border=\"1\" class=\"dataframe\">\n",
       "  <thead>\n",
       "    <tr style=\"text-align: right;\">\n",
       "      <th></th>\n",
       "      <th>treatment</th>\n",
       "      <th>company_size</th>\n",
       "      <th>campaign_spend</th>\n",
       "      <th>campaign_budget</th>\n",
       "      <th>overspend_amt</th>\n",
       "      <th>overspend</th>\n",
       "      <th>overbudget_pct</th>\n",
       "    </tr>\n",
       "  </thead>\n",
       "  <tbody>\n",
       "    <tr>\n",
       "      <th>0</th>\n",
       "      <td>False</td>\n",
       "      <td>small</td>\n",
       "      <td>10.4477</td>\n",
       "      <td>3.9035</td>\n",
       "      <td>6.5442</td>\n",
       "      <td>True</td>\n",
       "      <td>167.649545</td>\n",
       "    </tr>\n",
       "    <tr>\n",
       "      <th>1</th>\n",
       "      <td>False</td>\n",
       "      <td>medium</td>\n",
       "      <td>3.7776</td>\n",
       "      <td>1.9872</td>\n",
       "      <td>1.7904</td>\n",
       "      <td>True</td>\n",
       "      <td>90.096618</td>\n",
       "    </tr>\n",
       "    <tr>\n",
       "      <th>2</th>\n",
       "      <td>False</td>\n",
       "      <td>medium</td>\n",
       "      <td>46.1880</td>\n",
       "      <td>55.4523</td>\n",
       "      <td>0.0000</td>\n",
       "      <td>False</td>\n",
       "      <td>0.000000</td>\n",
       "    </tr>\n",
       "  </tbody>\n",
       "</table>\n",
       "</div>"
      ],
      "text/plain": [
       "   treatment company_size  campaign_spend  campaign_budget  overspend_amt  \\\n",
       "0      False        small         10.4477           3.9035         6.5442   \n",
       "1      False       medium          3.7776           1.9872         1.7904   \n",
       "2      False       medium         46.1880          55.4523         0.0000   \n",
       "\n",
       "   overspend  overbudget_pct  \n",
       "0       True      167.649545  \n",
       "1       True       90.096618  \n",
       "2      False        0.000000  "
      ]
     },
     "execution_count": 573,
     "metadata": {},
     "output_type": "execute_result"
    }
   ],
   "source": [
    "experiment.head(3)"
   ]
  },
  {
   "cell_type": "code",
   "execution_count": 889,
   "id": "c6492e5c",
   "metadata": {},
   "outputs": [
    {
     "data": {
      "text/plain": [
       "(8901, 1427, 5146)"
      ]
     },
     "execution_count": 889,
     "metadata": {},
     "output_type": "execute_result"
    }
   ],
   "source": [
    "small_df = experiment.company_size[experiment['company_size']=='small']\n",
    "medium_df = experiment.company_size[experiment['company_size']=='medium']\n",
    "large_df = experiment.company_size[experiment['company_size']=='large']\n",
    "\n",
    "len(small_df), len(medium_df), len(large_df)"
   ]
  },
  {
   "cell_type": "code",
   "execution_count": 890,
   "id": "c877f7e7",
   "metadata": {},
   "outputs": [
    {
     "data": {
      "text/plain": [
       "15474"
      ]
     },
     "execution_count": 890,
     "metadata": {},
     "output_type": "execute_result"
    }
   ],
   "source": [
    "stratified_idx = list(small_df.sample(int(sample_size*2/3), replace=True).index) \\\n",
    "                 + list(medium_df.sample(int(sample_size*2/3), replace=True).index) \\\n",
    "                 + list(large_df.sample(int(sample_size*2/3), replace=True).index) \n",
    "\n",
    "len(stratified_idx)"
   ]
  },
  {
   "cell_type": "code",
   "execution_count": 891,
   "id": "7de38ded",
   "metadata": {},
   "outputs": [
    {
     "data": {
      "text/plain": [
       "(15474, 7)"
      ]
     },
     "execution_count": 891,
     "metadata": {},
     "output_type": "execute_result"
    }
   ],
   "source": [
    "stratified_exp = experiment.loc[stratified_idx,:]\n",
    "stratified_exp.shape"
   ]
  },
  {
   "cell_type": "code",
   "execution_count": 892,
   "id": "b76237fa",
   "metadata": {},
   "outputs": [
    {
     "data": {
      "text/html": [
       "<div>\n",
       "<style scoped>\n",
       "    .dataframe tbody tr th:only-of-type {\n",
       "        vertical-align: middle;\n",
       "    }\n",
       "\n",
       "    .dataframe tbody tr th {\n",
       "        vertical-align: top;\n",
       "    }\n",
       "\n",
       "    .dataframe thead th {\n",
       "        text-align: right;\n",
       "    }\n",
       "</style>\n",
       "<table border=\"1\" class=\"dataframe\">\n",
       "  <thead>\n",
       "    <tr style=\"text-align: right;\">\n",
       "      <th></th>\n",
       "      <th>company_size</th>\n",
       "    </tr>\n",
       "    <tr>\n",
       "      <th>company_size</th>\n",
       "      <th></th>\n",
       "    </tr>\n",
       "  </thead>\n",
       "  <tbody>\n",
       "    <tr>\n",
       "      <th>large</th>\n",
       "      <td>5158</td>\n",
       "    </tr>\n",
       "    <tr>\n",
       "      <th>medium</th>\n",
       "      <td>5158</td>\n",
       "    </tr>\n",
       "    <tr>\n",
       "      <th>small</th>\n",
       "      <td>5158</td>\n",
       "    </tr>\n",
       "  </tbody>\n",
       "</table>\n",
       "</div>"
      ],
      "text/plain": [
       "              company_size\n",
       "company_size              \n",
       "large                 5158\n",
       "medium                5158\n",
       "small                 5158"
      ]
     },
     "execution_count": 892,
     "metadata": {},
     "output_type": "execute_result"
    }
   ],
   "source": [
    "stratified_exp.groupby('company_size')[['company_size']].count()"
   ]
  },
  {
   "cell_type": "code",
   "execution_count": 893,
   "id": "81af0757",
   "metadata": {},
   "outputs": [
    {
     "data": {
      "text/html": [
       "<div>\n",
       "<style scoped>\n",
       "    .dataframe tbody tr th:only-of-type {\n",
       "        vertical-align: middle;\n",
       "    }\n",
       "\n",
       "    .dataframe tbody tr th {\n",
       "        vertical-align: top;\n",
       "    }\n",
       "\n",
       "    .dataframe thead th {\n",
       "        text-align: right;\n",
       "    }\n",
       "</style>\n",
       "<table border=\"1\" class=\"dataframe\">\n",
       "  <thead>\n",
       "    <tr style=\"text-align: right;\">\n",
       "      <th>group</th>\n",
       "      <th>control</th>\n",
       "      <th>treatment</th>\n",
       "    </tr>\n",
       "    <tr>\n",
       "      <th>company_size</th>\n",
       "      <th></th>\n",
       "      <th></th>\n",
       "    </tr>\n",
       "  </thead>\n",
       "  <tbody>\n",
       "    <tr>\n",
       "      <th>large</th>\n",
       "      <td>2666</td>\n",
       "      <td>2492</td>\n",
       "    </tr>\n",
       "    <tr>\n",
       "      <th>medium</th>\n",
       "      <td>2640</td>\n",
       "      <td>2518</td>\n",
       "    </tr>\n",
       "    <tr>\n",
       "      <th>small</th>\n",
       "      <td>2428</td>\n",
       "      <td>2730</td>\n",
       "    </tr>\n",
       "  </tbody>\n",
       "</table>\n",
       "</div>"
      ],
      "text/plain": [
       "group         control  treatment\n",
       "company_size                    \n",
       "large            2666       2492\n",
       "medium           2640       2518\n",
       "small            2428       2730"
      ]
     },
     "execution_count": 893,
     "metadata": {},
     "output_type": "execute_result"
    }
   ],
   "source": [
    "pd.crosstab(stratified_exp.company_size, stratified_exp.treatment, colnames=['group']).rename(columns=mapping_dict)\n"
   ]
  },
  {
   "cell_type": "code",
   "execution_count": 894,
   "id": "d08c965b",
   "metadata": {},
   "outputs": [],
   "source": [
    "control_result = stratified_exp[stratified_exp.treatment == False]\n",
    "treatment_result = stratified_exp[stratified_exp.treatment == True]"
   ]
  },
  {
   "cell_type": "code",
   "execution_count": 1122,
   "id": "8feb10a9",
   "metadata": {},
   "outputs": [
    {
     "data": {
      "text/plain": [
       "Ttest_indResult(statistic=-1.1722549219827259, pvalue=0.24111277329077088)"
      ]
     },
     "execution_count": 1122,
     "metadata": {},
     "output_type": "execute_result"
    }
   ],
   "source": [
    "stats.ttest_ind(control_result.overspend_amt, treatment_result.overspend_amt)"
   ]
  },
  {
   "cell_type": "code",
   "execution_count": 897,
   "id": "11ff4a25",
   "metadata": {},
   "outputs": [
    {
     "data": {
      "text/plain": [
       "Ttest_indResult(statistic=1.5088527633026017, pvalue=0.13135683266610784)"
      ]
     },
     "execution_count": 897,
     "metadata": {},
     "output_type": "execute_result"
    }
   ],
   "source": [
    "stats.ttest_ind(control_result.overbudget_pct, treatment_result.overbudget_pct)"
   ]
  },
  {
   "cell_type": "code",
   "execution_count": 990,
   "id": "7ba4de47",
   "metadata": {},
   "outputs": [
    {
     "data": {
      "text/plain": [
       "<AxesSubplot:ylabel='Density'>"
      ]
     },
     "execution_count": 990,
     "metadata": {},
     "output_type": "execute_result"
    },
    {
     "data": {
      "image/png": "[encoded data removed]",
      "text/plain": [
       "<Figure size 432x288 with 1 Axes>"
      ]
     },
     "metadata": {
      "needs_background": "light"
     },
     "output_type": "display_data"
    }
   ],
   "source": [
    "boot_means = []\n",
    "\n",
    "for i in range (100):\n",
    "    \n",
    "    stratified_idx = list(small_df.sample(int(sample_size*2/3), replace=True).index) \\\n",
    "                 + list(medium_df.sample(int(sample_size*2/3), replace=True).index) \\\n",
    "                 + list(large_df.sample(int(sample_size*2/3), replace=True).index) \n",
    "    \n",
    "    stratified_exp = experiment.loc[stratified_idx,:]\n",
    "\n",
    "\n",
    "    boot_sample = stratified_exp.groupby('treatment')['overspend_amt'].mean()\n",
    "    boot_means.append(boot_sample)\n",
    "    \n",
    "boot_means = pd.DataFrame(boot_means)\n",
    "\n",
    "boot_means.plot(kind = 'kde')"
   ]
  },
  {
   "cell_type": "code",
   "execution_count": 883,
   "id": "12cc4dde",
   "metadata": {},
   "outputs": [],
   "source": [
    "small_df = experiment[experiment['company_size']=='small']\n",
    "small_df_stratified = small_df.sample(n=8901, replace=False)"
   ]
  },
  {
   "cell_type": "code",
   "execution_count": 884,
   "id": "eacaf02f",
   "metadata": {},
   "outputs": [
    {
     "data": {
      "text/html": [
       "<div>\n",
       "<style scoped>\n",
       "    .dataframe tbody tr th:only-of-type {\n",
       "        vertical-align: middle;\n",
       "    }\n",
       "\n",
       "    .dataframe tbody tr th {\n",
       "        vertical-align: top;\n",
       "    }\n",
       "\n",
       "    .dataframe thead th {\n",
       "        text-align: right;\n",
       "    }\n",
       "</style>\n",
       "<table border=\"1\" class=\"dataframe\">\n",
       "  <thead>\n",
       "    <tr style=\"text-align: right;\">\n",
       "      <th>group</th>\n",
       "      <th>control</th>\n",
       "      <th>treatment</th>\n",
       "    </tr>\n",
       "    <tr>\n",
       "      <th>company_size</th>\n",
       "      <th></th>\n",
       "      <th></th>\n",
       "    </tr>\n",
       "  </thead>\n",
       "  <tbody>\n",
       "    <tr>\n",
       "      <th>small</th>\n",
       "      <td>4297</td>\n",
       "      <td>4604</td>\n",
       "    </tr>\n",
       "  </tbody>\n",
       "</table>\n",
       "</div>"
      ],
      "text/plain": [
       "group         control  treatment\n",
       "company_size                    \n",
       "small            4297       4604"
      ]
     },
     "execution_count": 884,
     "metadata": {},
     "output_type": "execute_result"
    }
   ],
   "source": [
    "pd.crosstab(small_df_stratified.company_size, small_df_stratified.treatment, colnames=['group']).rename(columns=mapping_dict)\n"
   ]
  },
  {
   "cell_type": "code",
   "execution_count": 885,
   "id": "3d672303",
   "metadata": {},
   "outputs": [],
   "source": [
    "small_control_result = small_df_stratified[small_df_stratified.treatment == False]\n",
    "small_treatment_result = small_df_stratified[small_df_stratified.treatment == True]"
   ]
  },
  {
   "cell_type": "code",
   "execution_count": 886,
   "id": "496fa2b9",
   "metadata": {},
   "outputs": [
    {
     "data": {
      "text/plain": [
       "Ttest_indResult(statistic=4.469923200851652, pvalue=7.92160521907997e-06)"
      ]
     },
     "execution_count": 886,
     "metadata": {},
     "output_type": "execute_result"
    }
   ],
   "source": [
    "stats.ttest_ind(small_control_result.overbudget_pct, small_treatment_result.overbudget_pct)"
   ]
  },
  {
   "cell_type": "code",
   "execution_count": 887,
   "id": "51444562",
   "metadata": {},
   "outputs": [
    {
     "data": {
      "text/plain": [
       "Ttest_indResult(statistic=-2.1370202036173036, pvalue=0.03262353274126802)"
      ]
     },
     "execution_count": 887,
     "metadata": {},
     "output_type": "execute_result"
    }
   ],
   "source": [
    "stats.ttest_ind(small_control_result.overspend_amt, small_treatment_result.overspend_amt)"
   ]
  },
  {
   "cell_type": "code",
   "execution_count": 856,
   "id": "f9b0d8b4",
   "metadata": {},
   "outputs": [
    {
     "data": {
      "text/plain": [
       "<AxesSubplot:ylabel='Density'>"
      ]
     },
     "execution_count": 856,
     "metadata": {},
     "output_type": "execute_result"
    },
    {
     "data": {
      "image/png": "[encoded data removed]",
      "text/plain": [
       "<Figure size 432x288 with 1 Axes>"
      ]
     },
     "metadata": {
      "needs_background": "light"
     },
     "output_type": "display_data"
    }
   ],
   "source": [
    "boot_means = []\n",
    "\n",
    "for i in range (10000):\n",
    "    \n",
    "    small_df_stratified = small_df.sample(n=5146, replace=True)\n",
    "\n",
    "\n",
    "    boot_sample = small_df_stratified.groupby('treatment')['overspend_amt'].mean()\n",
    "    boot_means.append(boot_sample)\n",
    "    \n",
    "boot_means = pd.DataFrame(boot_means)\n",
    "\n",
    "boot_means.plot(kind = 'kde')"
   ]
  },
  {
   "cell_type": "code",
   "execution_count": null,
   "id": "49fc08bf",
   "metadata": {},
   "outputs": [],
   "source": []
  },
  {
   "cell_type": "code",
   "execution_count": null,
   "id": "2b5eeac1",
   "metadata": {},
   "outputs": [],
   "source": []
  },
  {
   "cell_type": "code",
   "execution_count": null,
   "id": "12999386",
   "metadata": {},
   "outputs": [],
   "source": []
  }
 ],
 "metadata": {
  "kernelspec": {
   "display_name": "Python 3",
   "language": "python",
   "name": "python3"
  },
  "language_info": {
   "codemirror_mode": {
    "name": "ipython",
    "version": 3
   },
   "file_extension": ".py",
   "mimetype": "text/x-python",
   "name": "python",
   "nbconvert_exporter": "python",
   "pygments_lexer": "ipython3",
   "version": "3.7.7"
  }
 },
 "nbformat": 4,
 "nbformat_minor": 5
}
