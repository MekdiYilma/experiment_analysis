{
 "cells": [
  {
   "cell_type": "code",
   "execution_count": 280,
   "id": "e0568c7b",
   "metadata": {},
   "outputs": [],
   "source": [
    "import numpy as np\n",
    "import pandas as pd\n",
    "\n",
    "import matplotlib.pyplot as plt\n",
    "import matplotlib as mpl\n",
    "\n",
    "color_lst = ['#059ff6', '#f22e92', '#7565df', '#8fd5fa', '#0c385b', '#a1c1ea']\n",
    "mpl.rcParams['axes.prop_cycle'] = mpl.cycler(color=color_lst) \n",
    "\n",
    "\n"
   ]
  },
  {
   "cell_type": "code",
   "execution_count": 281,
   "id": "cce57ae5",
   "metadata": {},
   "outputs": [
    {
     "data": {
      "text/html": [
       "<div>\n",
       "<style scoped>\n",
       "    .dataframe tbody tr th:only-of-type {\n",
       "        vertical-align: middle;\n",
       "    }\n",
       "\n",
       "    .dataframe tbody tr th {\n",
       "        vertical-align: top;\n",
       "    }\n",
       "\n",
       "    .dataframe thead th {\n",
       "        text-align: right;\n",
       "    }\n",
       "</style>\n",
       "<table border=\"1\" class=\"dataframe\">\n",
       "  <thead>\n",
       "    <tr style=\"text-align: right;\">\n",
       "      <th></th>\n",
       "      <th>treatment</th>\n",
       "      <th>company_size</th>\n",
       "      <th>campaign_spend</th>\n",
       "      <th>campaign_budget</th>\n",
       "    </tr>\n",
       "  </thead>\n",
       "  <tbody>\n",
       "    <tr>\n",
       "      <th>0</th>\n",
       "      <td>False</td>\n",
       "      <td>small</td>\n",
       "      <td>10.4477</td>\n",
       "      <td>3.9035</td>\n",
       "    </tr>\n",
       "    <tr>\n",
       "      <th>1</th>\n",
       "      <td>False</td>\n",
       "      <td>medium</td>\n",
       "      <td>3.7776</td>\n",
       "      <td>1.9872</td>\n",
       "    </tr>\n",
       "    <tr>\n",
       "      <th>2</th>\n",
       "      <td>False</td>\n",
       "      <td>medium</td>\n",
       "      <td>46.1880</td>\n",
       "      <td>55.4523</td>\n",
       "    </tr>\n",
       "    <tr>\n",
       "      <th>3</th>\n",
       "      <td>False</td>\n",
       "      <td>small</td>\n",
       "      <td>6.6271</td>\n",
       "      <td>6.5136</td>\n",
       "    </tr>\n",
       "    <tr>\n",
       "      <th>4</th>\n",
       "      <td>False</td>\n",
       "      <td>small</td>\n",
       "      <td>92.3405</td>\n",
       "      <td>83.1018</td>\n",
       "    </tr>\n",
       "  </tbody>\n",
       "</table>\n",
       "</div>"
      ],
      "text/plain": [
       "   treatment company_size  campaign_spend  campaign_budget\n",
       "0      False        small         10.4477           3.9035\n",
       "1      False       medium          3.7776           1.9872\n",
       "2      False       medium         46.1880          55.4523\n",
       "3      False        small          6.6271           6.5136\n",
       "4      False        small         92.3405          83.1018"
      ]
     },
     "execution_count": 281,
     "metadata": {},
     "output_type": "execute_result"
    }
   ],
   "source": [
    "experiment = pd.read_csv('../data/analytical_take_home_data_v3.csv')\n",
    "experiment.head()"
   ]
  },
  {
   "cell_type": "code",
   "execution_count": 282,
   "id": "f45373f3",
   "metadata": {},
   "outputs": [
    {
     "name": "stdout",
     "output_type": "stream",
     "text": [
      "<class 'pandas.core.frame.DataFrame'>\n",
      "RangeIndex: 15474 entries, 0 to 15473\n",
      "Data columns (total 4 columns):\n",
      " #   Column           Non-Null Count  Dtype  \n",
      "---  ------           --------------  -----  \n",
      " 0   treatment        15474 non-null  bool   \n",
      " 1   company_size     15474 non-null  object \n",
      " 2   campaign_spend   15474 non-null  float64\n",
      " 3   campaign_budget  15474 non-null  float64\n",
      "dtypes: bool(1), float64(2), object(1)\n",
      "memory usage: 377.9+ KB\n"
     ]
    }
   ],
   "source": [
    "# Data is collected from 15,474 advertisers with the experimentation randomly splitting advertisers \n",
    "# to test the new product\n",
    "experiment.info()"
   ]
  },
  {
   "cell_type": "markdown",
   "id": "191f93c6",
   "metadata": {},
   "source": [
    "### Data Schema \n",
    "\n",
    "A/B Testing Result <br>\n",
    "**Experiment**: pay each time ads appears in a user’s viewport rather than each time a user clicks on ads. (CTR vs Impressions)<br>\n",
    "\n",
    "<br>\n",
    "\n",
    "\n",
    "1) treatment \n",
    "- true = new product (pay on impressions)\n",
    "- false = old product (pay on clicks)\n",
    "\n",
    "2) company size\n",
    "- small: local businesses \n",
    "- medium: small national brands\n",
    "- large: global brands \n",
    "\n",
    "3) campaign spend & campaign budget: amount budgeted by the advertizers and spent by Twitter in the time of the experiment"
   ]
  },
  {
   "cell_type": "code",
   "execution_count": 283,
   "id": "06addf08",
   "metadata": {},
   "outputs": [],
   "source": [
    "# Overspend: the amount that Twitter has to cover for ad spend that exceeded the campaign's budget. \n",
    "# if spending remains within the budget, Twitter will not incur any additional overspend expense (hence, $0)\n",
    "experiment['overspend'] = experiment.campaign_spend - experiment.campaign_budget\n",
    "experiment['overspend'] = experiment.overspend.clip(lower=0)"
   ]
  },
  {
   "cell_type": "code",
   "execution_count": 284,
   "id": "7ea0730e",
   "metadata": {},
   "outputs": [
    {
     "data": {
      "text/html": [
       "<div>\n",
       "<style scoped>\n",
       "    .dataframe tbody tr th:only-of-type {\n",
       "        vertical-align: middle;\n",
       "    }\n",
       "\n",
       "    .dataframe tbody tr th {\n",
       "        vertical-align: top;\n",
       "    }\n",
       "\n",
       "    .dataframe thead th {\n",
       "        text-align: right;\n",
       "    }\n",
       "</style>\n",
       "<table border=\"1\" class=\"dataframe\">\n",
       "  <thead>\n",
       "    <tr style=\"text-align: right;\">\n",
       "      <th></th>\n",
       "      <th>treatment</th>\n",
       "      <th>company_size</th>\n",
       "      <th>campaign_spend</th>\n",
       "      <th>campaign_budget</th>\n",
       "      <th>overspend</th>\n",
       "    </tr>\n",
       "  </thead>\n",
       "  <tbody>\n",
       "    <tr>\n",
       "      <th>0</th>\n",
       "      <td>False</td>\n",
       "      <td>small</td>\n",
       "      <td>10.4477</td>\n",
       "      <td>3.9035</td>\n",
       "      <td>6.5442</td>\n",
       "    </tr>\n",
       "    <tr>\n",
       "      <th>1</th>\n",
       "      <td>False</td>\n",
       "      <td>medium</td>\n",
       "      <td>3.7776</td>\n",
       "      <td>1.9872</td>\n",
       "      <td>1.7904</td>\n",
       "    </tr>\n",
       "    <tr>\n",
       "      <th>2</th>\n",
       "      <td>False</td>\n",
       "      <td>medium</td>\n",
       "      <td>46.1880</td>\n",
       "      <td>55.4523</td>\n",
       "      <td>0.0000</td>\n",
       "    </tr>\n",
       "    <tr>\n",
       "      <th>3</th>\n",
       "      <td>False</td>\n",
       "      <td>small</td>\n",
       "      <td>6.6271</td>\n",
       "      <td>6.5136</td>\n",
       "      <td>0.1135</td>\n",
       "    </tr>\n",
       "    <tr>\n",
       "      <th>4</th>\n",
       "      <td>False</td>\n",
       "      <td>small</td>\n",
       "      <td>92.3405</td>\n",
       "      <td>83.1018</td>\n",
       "      <td>9.2387</td>\n",
       "    </tr>\n",
       "  </tbody>\n",
       "</table>\n",
       "</div>"
      ],
      "text/plain": [
       "   treatment company_size  campaign_spend  campaign_budget  overspend\n",
       "0      False        small         10.4477           3.9035     6.5442\n",
       "1      False       medium          3.7776           1.9872     1.7904\n",
       "2      False       medium         46.1880          55.4523     0.0000\n",
       "3      False        small          6.6271           6.5136     0.1135\n",
       "4      False        small         92.3405          83.1018     9.2387"
      ]
     },
     "execution_count": 284,
     "metadata": {},
     "output_type": "execute_result"
    }
   ],
   "source": [
    "experiment.head()"
   ]
  },
  {
   "cell_type": "code",
   "execution_count": 285,
   "id": "64949436",
   "metadata": {},
   "outputs": [
    {
     "data": {
      "text/plain": [
       "True     7741\n",
       "False    7733\n",
       "Name: treatment, dtype: int64"
      ]
     },
     "execution_count": 285,
     "metadata": {},
     "output_type": "execute_result"
    }
   ],
   "source": [
    "experiment_count = experiment.treatment.value_counts()\n",
    "experiment_count"
   ]
  },
  {
   "cell_type": "code",
   "execution_count": 286,
   "id": "a4fbc0b1",
   "metadata": {},
   "outputs": [
    {
     "data": {
      "image/png": "[encoded data removed]",
      "text/plain": [
       "<Figure size 432x288 with 1 Axes>"
      ]
     },
     "metadata": {
      "needs_background": "light"
     },
     "output_type": "display_data"
    }
   ],
   "source": [
    "ax = experiment_count.plot(kind='bar', color=color_lst[:2], title='A/B Group Count',\n",
    "                          xlabel='Group', ylabel='# of advertisers')\n",
    "\n",
    "ax.set_xticklabels(['treatment', 'control'], rotation=0)\n",
    "\n",
    "\n",
    "for p in ax.patches:\n",
    "    ax.annotate(p.get_height(), (p.get_x() + 0.15, p.get_height() - 500))\n",
    "\n",
    "fig = ax.get_figure()\n",
    "fig.savefig('../images/ab_count')"
   ]
  },
  {
   "cell_type": "code",
   "execution_count": 287,
   "id": "2decf525",
   "metadata": {},
   "outputs": [
    {
     "data": {
      "text/plain": [
       "treatment    0.500258\n",
       "control      0.499742\n",
       "Name: treatment, dtype: float64"
      ]
     },
     "execution_count": 287,
     "metadata": {},
     "output_type": "execute_result"
    }
   ],
   "source": [
    "mapping_dict = {True:'treatment', False:'control'}\n",
    "\n",
    "experiment_prop = experiment.treatment.value_counts(normalize=True).rename(index=mapping_dict)\n",
    "experiment_prop"
   ]
  },
  {
   "cell_type": "code",
   "execution_count": 288,
   "id": "c418d0e1",
   "metadata": {},
   "outputs": [
    {
     "data": {
      "text/plain": [
       "small     0.575223\n",
       "large     0.332558\n",
       "medium    0.092219\n",
       "Name: company_size, dtype: float64"
      ]
     },
     "execution_count": 288,
     "metadata": {},
     "output_type": "execute_result"
    }
   ],
   "source": [
    "company_size_prop = experiment.company_size.value_counts(normalize=True)\n",
    "company_size_prop"
   ]
  },
  {
   "cell_type": "code",
   "execution_count": 289,
   "id": "e20759e0",
   "metadata": {},
   "outputs": [
    {
     "data": {
      "image/png": "[encoded data removed]",
      "text/plain": [
       "<Figure size 432x288 with 1 Axes>"
      ]
     },
     "metadata": {},
     "output_type": "display_data"
    }
   ],
   "source": [
    "ax = company_size_prop.plot(kind='pie', autopct='%1.1f%%', title='Company Size Proportion')\n",
    "\n",
    "fig = ax.get_figure()\n",
    "fig.savefig('../images/company_size_pie');"
   ]
  },
  {
   "cell_type": "code",
   "execution_count": 290,
   "id": "d271728d",
   "metadata": {},
   "outputs": [
    {
     "data": {
      "text/html": [
       "<div>\n",
       "<style scoped>\n",
       "    .dataframe tbody tr th:only-of-type {\n",
       "        vertical-align: middle;\n",
       "    }\n",
       "\n",
       "    .dataframe tbody tr th {\n",
       "        vertical-align: top;\n",
       "    }\n",
       "\n",
       "    .dataframe thead th {\n",
       "        text-align: right;\n",
       "    }\n",
       "</style>\n",
       "<table border=\"1\" class=\"dataframe\">\n",
       "  <thead>\n",
       "    <tr style=\"text-align: right;\">\n",
       "      <th>group</th>\n",
       "      <th>control</th>\n",
       "      <th>treatment</th>\n",
       "    </tr>\n",
       "    <tr>\n",
       "      <th>company_size</th>\n",
       "      <th></th>\n",
       "      <th></th>\n",
       "    </tr>\n",
       "  </thead>\n",
       "  <tbody>\n",
       "    <tr>\n",
       "      <th>large</th>\n",
       "      <td>2701</td>\n",
       "      <td>2445</td>\n",
       "    </tr>\n",
       "    <tr>\n",
       "      <th>medium</th>\n",
       "      <td>735</td>\n",
       "      <td>692</td>\n",
       "    </tr>\n",
       "    <tr>\n",
       "      <th>small</th>\n",
       "      <td>4297</td>\n",
       "      <td>4604</td>\n",
       "    </tr>\n",
       "  </tbody>\n",
       "</table>\n",
       "</div>"
      ],
      "text/plain": [
       "group         control  treatment\n",
       "company_size                    \n",
       "large            2701       2445\n",
       "medium            735        692\n",
       "small            4297       4604"
      ]
     },
     "execution_count": 290,
     "metadata": {},
     "output_type": "execute_result"
    }
   ],
   "source": [
    "company_size_count = pd.crosstab(experiment.company_size, experiment.treatment, colnames=['group'])\n",
    "company_size_count.rename(columns=mapping_dict, inplace=True)\n",
    "company_size_count"
   ]
  },
  {
   "cell_type": "code",
   "execution_count": 291,
   "id": "cbda3eaa",
   "metadata": {},
   "outputs": [
    {
     "data": {
      "text/html": [
       "<div>\n",
       "<style scoped>\n",
       "    .dataframe tbody tr th:only-of-type {\n",
       "        vertical-align: middle;\n",
       "    }\n",
       "\n",
       "    .dataframe tbody tr th {\n",
       "        vertical-align: top;\n",
       "    }\n",
       "\n",
       "    .dataframe thead th {\n",
       "        text-align: right;\n",
       "    }\n",
       "</style>\n",
       "<table border=\"1\" class=\"dataframe\">\n",
       "  <thead>\n",
       "    <tr style=\"text-align: right;\">\n",
       "      <th>group</th>\n",
       "      <th>control</th>\n",
       "      <th>treatment</th>\n",
       "    </tr>\n",
       "    <tr>\n",
       "      <th>company_size</th>\n",
       "      <th></th>\n",
       "      <th></th>\n",
       "    </tr>\n",
       "  </thead>\n",
       "  <tbody>\n",
       "    <tr>\n",
       "      <th>large</th>\n",
       "      <td>0.524874</td>\n",
       "      <td>0.475126</td>\n",
       "    </tr>\n",
       "    <tr>\n",
       "      <th>medium</th>\n",
       "      <td>0.515067</td>\n",
       "      <td>0.484933</td>\n",
       "    </tr>\n",
       "    <tr>\n",
       "      <th>small</th>\n",
       "      <td>0.482755</td>\n",
       "      <td>0.517245</td>\n",
       "    </tr>\n",
       "  </tbody>\n",
       "</table>\n",
       "</div>"
      ],
      "text/plain": [
       "group          control  treatment\n",
       "company_size                     \n",
       "large         0.524874   0.475126\n",
       "medium        0.515067   0.484933\n",
       "small         0.482755   0.517245"
      ]
     },
     "execution_count": 291,
     "metadata": {},
     "output_type": "execute_result"
    }
   ],
   "source": [
    "company_size_pct = pd.crosstab(experiment.company_size, experiment.treatment, colnames=['group'],\n",
    "                                normalize='index')\n",
    "company_size_pct.rename(columns=mapping_dict, inplace=True)\n",
    "company_size_pct"
   ]
  },
  {
   "cell_type": "code",
   "execution_count": 292,
   "id": "f31b0874",
   "metadata": {},
   "outputs": [
    {
     "data": {
      "text/plain": [
       "''"
      ]
     },
     "execution_count": 292,
     "metadata": {},
     "output_type": "execute_result"
    },
    {
     "data": {
      "image/png": "[encoded data removed]",
      "text/plain": [
       "<Figure size 1080x432 with 2 Axes>"
      ]
     },
     "metadata": {
      "needs_background": "light"
     },
     "output_type": "display_data"
    }
   ],
   "source": [
    "fig, axs = plt.subplots(1, 2, figsize=(15,6))\n",
    "\n",
    "for idx, (df_summary, sign) in enumerate(zip([company_size_count, company_size_pct], ['#', '%'])):\n",
    "    axs[idx].bar(df_summary.index, df_summary.treatment, label='treatment')\n",
    "    axs[idx].bar(df_summary.index, df_summary.control, bottom=df_summary.treatment, \n",
    "           label='control')\n",
    "\n",
    "    axs[idx].set_title(f'A/B Group by Company Size ({sign})')\n",
    "    axs[idx].legend()\n",
    "    \n",
    "\n",
    "fig.savefig(f'../images/ab_by_company_size.jpg')\n",
    "\n",
    ";\n"
   ]
  },
  {
   "cell_type": "code",
   "execution_count": 293,
   "id": "e353b204",
   "metadata": {},
   "outputs": [
    {
     "ename": "SyntaxError",
     "evalue": "invalid syntax (<ipython-input-293-9c53681de033>, line 5)",
     "output_type": "error",
     "traceback": [
      "\u001b[0;36m  File \u001b[0;32m\"<ipython-input-293-9c53681de033>\"\u001b[0;36m, line \u001b[0;32m5\u001b[0m\n\u001b[0;31m    for version in [True, False]\u001b[0m\n\u001b[0m                                ^\u001b[0m\n\u001b[0;31mSyntaxError\u001b[0m\u001b[0;31m:\u001b[0m invalid syntax\n"
     ]
    }
   ],
   "source": [
    "def plot_distribution(df, col_name, title, separation_quantile):\n",
    "    \n",
    "#     print(f'The separation frequency is at ${df[col_name].quantile(separation_quantile):.1f}')\n",
    "    \n",
    "    for version in [True, False]\n",
    "    df = df[df.treatment == False]\n",
    "    \n",
    "    \n",
    "    # create a new dataframe with the data below than the separation quantile of the given column \n",
    "    lower_bound_dist = df[col_name][(df[col_name] < df[col_name].quantile(separation_quantile))]\n",
    "    \n",
    "    # create another dataframe with the data higher than the separation quantile of the given column \n",
    "    upper_bound_dist = df[col_name][(df[col_name] >= df[col_name].quantile(separation_quantile))]\n",
    "    \n",
    "    \n",
    "    fig, axs = plt.subplots(2, figsize=(6,8), tight_layout=True)\n",
    "    \n",
    "    \n",
    "    # plot the lower bound distribution and median\n",
    "    axs[0].hist(lower_bound_dist) \n",
    "    axs[0].axvline(df[col_name].quantile(0.5), color='black', ls='--', \n",
    "                  label=f'median = {df[col_name].median():.1f}')\n",
    "    \n",
    "    axs[0].set_ylabel('frequency')\n",
    "    axs[0].set_xlabel(col_name)\n",
    "    axs[0].set_title(f'{separation_quantile*100:.0f}% of the Data Distribution', fontsize=14)\n",
    "    axs[0].legend()\n",
    "    \n",
    "    # plot the upper bound distribution and mean    \n",
    "    axs[1].hist(upper_bound_dist)\n",
    "    axs[1].axvline(df[col_name].mean(), color='black', ls='--', \n",
    "                  label=f'mean = {df[col_name].mean():.1f}', alpha=0.5)\n",
    "\n",
    "    axs[1].set_ylabel('frequency')\n",
    "    axs[1].set_xlabel(col_name)\n",
    "    axs[1].set_title(f'{100-separation_quantile*100:.0f}% of the Tail Data Distributiion', fontsize=14)\n",
    "    axs[1].legend()\n",
    "    \n",
    "    fig.suptitle(title, fontsize=14)\n",
    "    \n",
    "    fig.savefig(f'../images/{col_name}_distribution.jpg')\n",
    "    ;\n"
   ]
  },
  {
   "cell_type": "code",
   "execution_count": 294,
   "id": "8ec8c838",
   "metadata": {},
   "outputs": [],
   "source": [
    "def plot_distribution(ab_df, col_name, title, separation_quantile):\n",
    "    \n",
    "#     print(f'The separation frequency is at ${df[col_name].quantile(separation_quantile):.1f}')\n",
    "    fig, axs = plt.subplots(2, 2, figsize=(12,8), tight_layout=True)\n",
    "    \n",
    "    for idx, version in enumerate([True, False]):\n",
    "        df = ab_df[ab_df.treatment == version]\n",
    "\n",
    "\n",
    "        # create a new dataframe with the data below than the separation quantile of the given column \n",
    "        lower_bound_dist = df[col_name][(df[col_name] < df[col_name].quantile(separation_quantile))]\n",
    "\n",
    "        # create another dataframe with the data higher than the separation quantile of the given column \n",
    "        upper_bound_dist = df[col_name][(df[col_name] >= df[col_name].quantile(separation_quantile))]\n",
    "\n",
    "\n",
    "        \n",
    "\n",
    "\n",
    "        # plot the lower bound distribution and median\n",
    "        axs[0,idx].hist(lower_bound_dist, color=color_lst[idx]) \n",
    "        axs[0,idx].axvline(df[col_name].quantile(0.5), color='black', ls='--', \n",
    "                      label=f'median = {df[col_name].median():.1f}')\n",
    "\n",
    "        axs[0,idx].set_ylabel('frequency')\n",
    "        axs[0,idx].set_xlabel(col_name)\n",
    "        axs[0,idx].set_title(f'{separation_quantile*100:.0f}% of the Data Distribution', fontsize=14)\n",
    "        axs[0,idx].legend()\n",
    "\n",
    "        # plot the upper bound distribution and mean    \n",
    "        axs[1,idx].hist(upper_bound_dist, color=color_lst[idx])\n",
    "        axs[1,idx].axvline(df[col_name].mean(), color='black', ls='--', \n",
    "                      label=f'mean = {df[col_name].mean():.1f}', alpha=0.5)\n",
    "\n",
    "        axs[1,idx].set_ylabel('frequency')\n",
    "        axs[1,idx].set_xlabel(col_name)\n",
    "        axs[1,idx].set_title(f'{100-separation_quantile*100:.0f}% of the Tail Data Distributiion', fontsize=14)\n",
    "        axs[1,idx].legend()\n",
    "    \n",
    "    fig.suptitle(title + ' Treatment vs Control Group', fontsize=14)\n",
    "    \n",
    "    fig.savefig(f'../images/{col_name}_distribution.jpg')\n",
    "    ;\n"
   ]
  },
  {
   "cell_type": "code",
   "execution_count": 295,
   "id": "d82fd525",
   "metadata": {},
   "outputs": [
    {
     "data": {
      "text/html": [
       "<div>\n",
       "<style scoped>\n",
       "    .dataframe tbody tr th:only-of-type {\n",
       "        vertical-align: middle;\n",
       "    }\n",
       "\n",
       "    .dataframe tbody tr th {\n",
       "        vertical-align: top;\n",
       "    }\n",
       "\n",
       "    .dataframe thead th {\n",
       "        text-align: right;\n",
       "    }\n",
       "</style>\n",
       "<table border=\"1\" class=\"dataframe\">\n",
       "  <thead>\n",
       "    <tr style=\"text-align: right;\">\n",
       "      <th></th>\n",
       "      <th>campaign_spend</th>\n",
       "      <th>campaign_budget</th>\n",
       "      <th>overspend</th>\n",
       "    </tr>\n",
       "  </thead>\n",
       "  <tbody>\n",
       "    <tr>\n",
       "      <th>count</th>\n",
       "      <td>15474.0</td>\n",
       "      <td>15474.0</td>\n",
       "      <td>15474.0</td>\n",
       "    </tr>\n",
       "    <tr>\n",
       "      <th>mean</th>\n",
       "      <td>4903.0</td>\n",
       "      <td>5772.6</td>\n",
       "      <td>341.5</td>\n",
       "    </tr>\n",
       "    <tr>\n",
       "      <th>std</th>\n",
       "      <td>65166.9</td>\n",
       "      <td>99033.8</td>\n",
       "      <td>4079.1</td>\n",
       "    </tr>\n",
       "    <tr>\n",
       "      <th>min</th>\n",
       "      <td>0.4</td>\n",
       "      <td>0.1</td>\n",
       "      <td>0.0</td>\n",
       "    </tr>\n",
       "    <tr>\n",
       "      <th>25%</th>\n",
       "      <td>15.2</td>\n",
       "      <td>12.8</td>\n",
       "      <td>0.1</td>\n",
       "    </tr>\n",
       "    <tr>\n",
       "      <th>50%</th>\n",
       "      <td>50.1</td>\n",
       "      <td>48.8</td>\n",
       "      <td>2.2</td>\n",
       "    </tr>\n",
       "    <tr>\n",
       "      <th>75%</th>\n",
       "      <td>236.5</td>\n",
       "      <td>252.3</td>\n",
       "      <td>7.8</td>\n",
       "    </tr>\n",
       "    <tr>\n",
       "      <th>max</th>\n",
       "      <td>5289216.9</td>\n",
       "      <td>10242888.2</td>\n",
       "      <td>288590.2</td>\n",
       "    </tr>\n",
       "  </tbody>\n",
       "</table>\n",
       "</div>"
      ],
      "text/plain": [
       "      campaign_spend campaign_budget overspend\n",
       "count        15474.0         15474.0   15474.0\n",
       "mean          4903.0          5772.6     341.5\n",
       "std          65166.9         99033.8    4079.1\n",
       "min              0.4             0.1       0.0\n",
       "25%             15.2            12.8       0.1\n",
       "50%             50.1            48.8       2.2\n",
       "75%            236.5           252.3       7.8\n",
       "max        5289216.9      10242888.2  288590.2"
      ]
     },
     "execution_count": 295,
     "metadata": {},
     "output_type": "execute_result"
    }
   ],
   "source": [
    "experiment.describe().apply(lambda d: d.apply('{0:.1f}'.format))"
   ]
  },
  {
   "cell_type": "code",
   "execution_count": 296,
   "id": "29488377",
   "metadata": {},
   "outputs": [
    {
     "data": {
      "image/png": "[encoded data removed]",
      "text/plain": [
       "<Figure size 864x576 with 4 Axes>"
      ]
     },
     "metadata": {
      "needs_background": "light"
     },
     "output_type": "display_data"
    }
   ],
   "source": [
    "plot_distribution(experiment, 'campaign_spend', title='Campaign Spend Distribution ',\n",
    "                  separation_quantile=0.8)"
   ]
  },
  {
   "cell_type": "code",
   "execution_count": 297,
   "id": "718420c4",
   "metadata": {},
   "outputs": [
    {
     "data": {
      "image/png": "[encoded data removed]",
      "text/plain": [
       "<Figure size 864x576 with 4 Axes>"
      ]
     },
     "metadata": {
      "needs_background": "light"
     },
     "output_type": "display_data"
    }
   ],
   "source": [
    "plot_distribution(experiment, 'campaign_budget', title='Campaign Budget Distribution', separation_quantile=0.8)"
   ]
  },
  {
   "cell_type": "code",
   "execution_count": 298,
   "id": "effa6a9f",
   "metadata": {},
   "outputs": [
    {
     "data": {
      "image/png": "[encoded data removed]",
      "text/plain": [
       "<Figure size 864x576 with 4 Axes>"
      ]
     },
     "metadata": {
      "needs_background": "light"
     },
     "output_type": "display_data"
    }
   ],
   "source": [
    "plot_distribution(experiment, 'overspend', title='Twitter Overspending Distribution', separation_quantile=0.8)"
   ]
  },
  {
   "cell_type": "code",
   "execution_count": 299,
   "id": "ffc585d4",
   "metadata": {},
   "outputs": [
    {
     "data": {
      "text/html": [
       "<div>\n",
       "<style scoped>\n",
       "    .dataframe tbody tr th:only-of-type {\n",
       "        vertical-align: middle;\n",
       "    }\n",
       "\n",
       "    .dataframe tbody tr th {\n",
       "        vertical-align: top;\n",
       "    }\n",
       "\n",
       "    .dataframe thead th {\n",
       "        text-align: right;\n",
       "    }\n",
       "</style>\n",
       "<table border=\"1\" class=\"dataframe\">\n",
       "  <thead>\n",
       "    <tr style=\"text-align: right;\">\n",
       "      <th></th>\n",
       "      <th>treatment</th>\n",
       "      <th>company_size</th>\n",
       "      <th>campaign_spend</th>\n",
       "      <th>campaign_budget</th>\n",
       "      <th>overspend</th>\n",
       "    </tr>\n",
       "  </thead>\n",
       "  <tbody>\n",
       "    <tr>\n",
       "      <th>0</th>\n",
       "      <td>False</td>\n",
       "      <td>small</td>\n",
       "      <td>10.4477</td>\n",
       "      <td>3.9035</td>\n",
       "      <td>6.5442</td>\n",
       "    </tr>\n",
       "    <tr>\n",
       "      <th>1</th>\n",
       "      <td>False</td>\n",
       "      <td>medium</td>\n",
       "      <td>3.7776</td>\n",
       "      <td>1.9872</td>\n",
       "      <td>1.7904</td>\n",
       "    </tr>\n",
       "    <tr>\n",
       "      <th>2</th>\n",
       "      <td>False</td>\n",
       "      <td>medium</td>\n",
       "      <td>46.1880</td>\n",
       "      <td>55.4523</td>\n",
       "      <td>0.0000</td>\n",
       "    </tr>\n",
       "    <tr>\n",
       "      <th>3</th>\n",
       "      <td>False</td>\n",
       "      <td>small</td>\n",
       "      <td>6.6271</td>\n",
       "      <td>6.5136</td>\n",
       "      <td>0.1135</td>\n",
       "    </tr>\n",
       "    <tr>\n",
       "      <th>4</th>\n",
       "      <td>False</td>\n",
       "      <td>small</td>\n",
       "      <td>92.3405</td>\n",
       "      <td>83.1018</td>\n",
       "      <td>9.2387</td>\n",
       "    </tr>\n",
       "  </tbody>\n",
       "</table>\n",
       "</div>"
      ],
      "text/plain": [
       "   treatment company_size  campaign_spend  campaign_budget  overspend\n",
       "0      False        small         10.4477           3.9035     6.5442\n",
       "1      False       medium          3.7776           1.9872     1.7904\n",
       "2      False       medium         46.1880          55.4523     0.0000\n",
       "3      False        small          6.6271           6.5136     0.1135\n",
       "4      False        small         92.3405          83.1018     9.2387"
      ]
     },
     "execution_count": 299,
     "metadata": {},
     "output_type": "execute_result"
    }
   ],
   "source": [
    "experiment.head()"
   ]
  },
  {
   "cell_type": "code",
   "execution_count": null,
   "id": "9bee72da",
   "metadata": {},
   "outputs": [],
   "source": []
  },
  {
   "cell_type": "code",
   "execution_count": null,
   "id": "de1709b9",
   "metadata": {},
   "outputs": [],
   "source": []
  },
  {
   "cell_type": "code",
   "execution_count": null,
   "id": "7b8529f0",
   "metadata": {},
   "outputs": [],
   "source": []
  },
  {
   "cell_type": "code",
   "execution_count": null,
   "id": "6802e102",
   "metadata": {},
   "outputs": [],
   "source": []
  },
  {
   "cell_type": "code",
   "execution_count": null,
   "id": "d7c85c2f",
   "metadata": {},
   "outputs": [],
   "source": []
  },
  {
   "cell_type": "code",
   "execution_count": null,
   "id": "e8c32600",
   "metadata": {},
   "outputs": [],
   "source": []
  },
  {
   "cell_type": "code",
   "execution_count": null,
   "id": "18783dfb",
   "metadata": {},
   "outputs": [],
   "source": []
  }
 ],
 "metadata": {
  "kernelspec": {
   "display_name": "Python 3",
   "language": "python",
   "name": "python3"
  },
  "language_info": {
   "codemirror_mode": {
    "name": "ipython",
    "version": 3
   },
   "file_extension": ".py",
   "mimetype": "text/x-python",
   "name": "python",
   "nbconvert_exporter": "python",
   "pygments_lexer": "ipython3",
   "version": "3.7.7"
  }
 },
 "nbformat": 4,
 "nbformat_minor": 5
}
