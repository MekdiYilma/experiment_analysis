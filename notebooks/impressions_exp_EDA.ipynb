{
 "cells": [
  {
   "cell_type": "code",
   "execution_count": 18,
   "id": "e0568c7b",
   "metadata": {},
   "outputs": [],
   "source": [
    "import numpy as np\n",
    "import pandas as pd\n",
    "\n",
    "import matplotlib.pyplot as plt\n",
    "import matplotlib as mpl\n",
    "\n",
    "color_lst = ['#059ff6', '#f22e92', '#7565df', '#8fd5fa', '#0c385b', '#a1c1ea']\n",
    "mpl.rcParams['axes.prop_cycle'] = mpl.cycler(color=color_lst) \n",
    "\n",
    "\n"
   ]
  },
  {
   "cell_type": "code",
   "execution_count": 3,
   "id": "cce57ae5",
   "metadata": {},
   "outputs": [
    {
     "data": {
      "text/html": [
       "<div>\n",
       "<style scoped>\n",
       "    .dataframe tbody tr th:only-of-type {\n",
       "        vertical-align: middle;\n",
       "    }\n",
       "\n",
       "    .dataframe tbody tr th {\n",
       "        vertical-align: top;\n",
       "    }\n",
       "\n",
       "    .dataframe thead th {\n",
       "        text-align: right;\n",
       "    }\n",
       "</style>\n",
       "<table border=\"1\" class=\"dataframe\">\n",
       "  <thead>\n",
       "    <tr style=\"text-align: right;\">\n",
       "      <th></th>\n",
       "      <th>treatment</th>\n",
       "      <th>company_size</th>\n",
       "      <th>campaign_spend</th>\n",
       "      <th>campaign_budget</th>\n",
       "    </tr>\n",
       "  </thead>\n",
       "  <tbody>\n",
       "    <tr>\n",
       "      <th>0</th>\n",
       "      <td>False</td>\n",
       "      <td>small</td>\n",
       "      <td>10.4477</td>\n",
       "      <td>3.9035</td>\n",
       "    </tr>\n",
       "    <tr>\n",
       "      <th>1</th>\n",
       "      <td>False</td>\n",
       "      <td>medium</td>\n",
       "      <td>3.7776</td>\n",
       "      <td>1.9872</td>\n",
       "    </tr>\n",
       "    <tr>\n",
       "      <th>2</th>\n",
       "      <td>False</td>\n",
       "      <td>medium</td>\n",
       "      <td>46.1880</td>\n",
       "      <td>55.4523</td>\n",
       "    </tr>\n",
       "    <tr>\n",
       "      <th>3</th>\n",
       "      <td>False</td>\n",
       "      <td>small</td>\n",
       "      <td>6.6271</td>\n",
       "      <td>6.5136</td>\n",
       "    </tr>\n",
       "    <tr>\n",
       "      <th>4</th>\n",
       "      <td>False</td>\n",
       "      <td>small</td>\n",
       "      <td>92.3405</td>\n",
       "      <td>83.1018</td>\n",
       "    </tr>\n",
       "  </tbody>\n",
       "</table>\n",
       "</div>"
      ],
      "text/plain": [
       "   treatment company_size  campaign_spend  campaign_budget\n",
       "0      False        small         10.4477           3.9035\n",
       "1      False       medium          3.7776           1.9872\n",
       "2      False       medium         46.1880          55.4523\n",
       "3      False        small          6.6271           6.5136\n",
       "4      False        small         92.3405          83.1018"
      ]
     },
     "execution_count": 3,
     "metadata": {},
     "output_type": "execute_result"
    }
   ],
   "source": [
    "experiment = pd.read_csv('../data/analytical_take_home_data_v3.csv')\n",
    "experiment.head()"
   ]
  },
  {
   "cell_type": "code",
   "execution_count": 64,
   "id": "f45373f3",
   "metadata": {},
   "outputs": [
    {
     "name": "stdout",
     "output_type": "stream",
     "text": [
      "<class 'pandas.core.frame.DataFrame'>\n",
      "RangeIndex: 15474 entries, 0 to 15473\n",
      "Data columns (total 5 columns):\n",
      " #   Column           Non-Null Count  Dtype  \n",
      "---  ------           --------------  -----  \n",
      " 0   treatment        15474 non-null  bool   \n",
      " 1   company_size     15474 non-null  object \n",
      " 2   campaign_spend   15474 non-null  float64\n",
      " 3   campaign_budget  15474 non-null  float64\n",
      " 4   overspend        15474 non-null  float64\n",
      "dtypes: bool(1), float64(3), object(1)\n",
      "memory usage: 498.8+ KB\n"
     ]
    }
   ],
   "source": [
    "# Data is collected from 15,474 advertisers with the experimentation randomly splitting advertisers \n",
    "# to test the new product\n",
    "experiment.info()"
   ]
  },
  {
   "cell_type": "markdown",
   "id": "191f93c6",
   "metadata": {},
   "source": [
    "### Data Schema \n",
    "\n",
    "A/B Testing Result <br>\n",
    "**Experiment**: pay each time ads appears in a user’s viewport rather than each time a user clicks on ads. (CTR vs Impressions)<br>\n",
    "\n",
    "<br>\n",
    "\n",
    "\n",
    "1) treatment \n",
    "- true = new product (pay on impressions)\n",
    "- false = old product (pay on clicks)\n",
    "\n",
    "2) company size\n",
    "- small: local businesses \n",
    "- medium: small national brands\n",
    "- large: global brands \n",
    "\n",
    "3) campaign spend & campaign budget: amount budgeted by the advertizers and spent by Twitter in the time of the experiment"
   ]
  },
  {
   "cell_type": "code",
   "execution_count": 65,
   "id": "06addf08",
   "metadata": {},
   "outputs": [],
   "source": [
    "# Overspend: the amount that Twitter has to cover for ad spend that exceeded the campaign's budget. \n",
    "# if spending remains within the budget, Twitter will not incur any additional overspend expense (hence, $0)\n",
    "experiment['overspend'] = experiment.campaign_spend - experiment.campaign_budget\n",
    "experiment['overspend'] = experiment.overspend.clip(lower=0)"
   ]
  },
  {
   "cell_type": "code",
   "execution_count": 12,
   "id": "928e0916",
   "metadata": {},
   "outputs": [
    {
     "data": {
      "text/html": [
       "<div>\n",
       "<style scoped>\n",
       "    .dataframe tbody tr th:only-of-type {\n",
       "        vertical-align: middle;\n",
       "    }\n",
       "\n",
       "    .dataframe tbody tr th {\n",
       "        vertical-align: top;\n",
       "    }\n",
       "\n",
       "    .dataframe thead th {\n",
       "        text-align: right;\n",
       "    }\n",
       "</style>\n",
       "<table border=\"1\" class=\"dataframe\">\n",
       "  <thead>\n",
       "    <tr style=\"text-align: right;\">\n",
       "      <th></th>\n",
       "      <th>treatment</th>\n",
       "      <th>company_size</th>\n",
       "      <th>campaign_spend</th>\n",
       "      <th>campaign_budget</th>\n",
       "      <th>overspend</th>\n",
       "    </tr>\n",
       "  </thead>\n",
       "  <tbody>\n",
       "    <tr>\n",
       "      <th>0</th>\n",
       "      <td>False</td>\n",
       "      <td>small</td>\n",
       "      <td>10.4477</td>\n",
       "      <td>3.9035</td>\n",
       "      <td>6.5442</td>\n",
       "    </tr>\n",
       "    <tr>\n",
       "      <th>1</th>\n",
       "      <td>False</td>\n",
       "      <td>medium</td>\n",
       "      <td>3.7776</td>\n",
       "      <td>1.9872</td>\n",
       "      <td>1.7904</td>\n",
       "    </tr>\n",
       "    <tr>\n",
       "      <th>2</th>\n",
       "      <td>False</td>\n",
       "      <td>medium</td>\n",
       "      <td>46.1880</td>\n",
       "      <td>55.4523</td>\n",
       "      <td>0.0000</td>\n",
       "    </tr>\n",
       "    <tr>\n",
       "      <th>3</th>\n",
       "      <td>False</td>\n",
       "      <td>small</td>\n",
       "      <td>6.6271</td>\n",
       "      <td>6.5136</td>\n",
       "      <td>0.1135</td>\n",
       "    </tr>\n",
       "    <tr>\n",
       "      <th>4</th>\n",
       "      <td>False</td>\n",
       "      <td>small</td>\n",
       "      <td>92.3405</td>\n",
       "      <td>83.1018</td>\n",
       "      <td>9.2387</td>\n",
       "    </tr>\n",
       "  </tbody>\n",
       "</table>\n",
       "</div>"
      ],
      "text/plain": [
       "   treatment company_size  campaign_spend  campaign_budget  overspend\n",
       "0      False        small         10.4477           3.9035     6.5442\n",
       "1      False       medium          3.7776           1.9872     1.7904\n",
       "2      False       medium         46.1880          55.4523     0.0000\n",
       "3      False        small          6.6271           6.5136     0.1135\n",
       "4      False        small         92.3405          83.1018     9.2387"
      ]
     },
     "execution_count": 12,
     "metadata": {},
     "output_type": "execute_result"
    }
   ],
   "source": [
    "experiment.head()"
   ]
  },
  {
   "cell_type": "code",
   "execution_count": 22,
   "id": "277c8f91",
   "metadata": {},
   "outputs": [
    {
     "data": {
      "text/plain": [
       "True     7741\n",
       "False    7733\n",
       "Name: treatment, dtype: int64"
      ]
     },
     "execution_count": 22,
     "metadata": {},
     "output_type": "execute_result"
    }
   ],
   "source": [
    "experiment_count = experiment.treatment.value_counts()\n",
    "experiment_count"
   ]
  },
  {
   "cell_type": "code",
   "execution_count": 105,
   "id": "a239ef4c",
   "metadata": {},
   "outputs": [
    {
     "data": {
      "image/png": "[encoded data removed]",
      "text/plain": [
       "<Figure size 432x288 with 1 Axes>"
      ]
     },
     "metadata": {
      "needs_background": "light"
     },
     "output_type": "display_data"
    }
   ],
   "source": [
    "ax = experiment_count.plot(kind='bar', color=color_lst[:2], title='Count by Group',\n",
    "                          xlabel='Group', ylabel='# of advertisers')\n",
    "\n",
    "ax.set_xticklabels(['treatment', 'control'], rotation=0)\n",
    "\n",
    "\n",
    "for p in ax.patches:\n",
    "    ax.annotate(p.get_height(), (p.get_x() + 0.15, p.get_height() - 500))\n",
    "\n"
   ]
  },
  {
   "cell_type": "code",
   "execution_count": 82,
   "id": "786bb725",
   "metadata": {},
   "outputs": [
    {
     "data": {
      "text/plain": [
       "treatment    0.500258\n",
       "control      0.499742\n",
       "Name: treatment, dtype: float64"
      ]
     },
     "execution_count": 82,
     "metadata": {},
     "output_type": "execute_result"
    }
   ],
   "source": [
    "mapping_dict = {True:'treatment', False:'control'}\n",
    "\n",
    "experiment_prop = experiment.treatment.value_counts(normalize=True).rename(index=mapping_dict)\n",
    "experiment_prop"
   ]
  },
  {
   "cell_type": "code",
   "execution_count": 100,
   "id": "bd79f00f",
   "metadata": {},
   "outputs": [
    {
     "data": {
      "text/plain": [
       "small     0.575223\n",
       "large     0.332558\n",
       "medium    0.092219\n",
       "Name: company_size, dtype: float64"
      ]
     },
     "execution_count": 100,
     "metadata": {},
     "output_type": "execute_result"
    }
   ],
   "source": [
    "company_size_count = experiment.company_size.value_counts(normalize=True)\n",
    "company_size_count"
   ]
  },
  {
   "cell_type": "code",
   "execution_count": 109,
   "id": "0fbfdc93",
   "metadata": {},
   "outputs": [
    {
     "data": {
      "image/png": "[encoded data removed]",
      "text/plain": [
       "<Figure size 432x288 with 1 Axes>"
      ]
     },
     "metadata": {},
     "output_type": "display_data"
    }
   ],
   "source": [
    "company_size_count.plot(kind='pie', autopct='%1.1f%%', title='Company Size Proportion');"
   ]
  },
  {
   "cell_type": "code",
   "execution_count": 111,
   "id": "0b3e3885",
   "metadata": {},
   "outputs": [
    {
     "data": {
      "text/html": [
       "<div>\n",
       "<style scoped>\n",
       "    .dataframe tbody tr th:only-of-type {\n",
       "        vertical-align: middle;\n",
       "    }\n",
       "\n",
       "    .dataframe tbody tr th {\n",
       "        vertical-align: top;\n",
       "    }\n",
       "\n",
       "    .dataframe thead th {\n",
       "        text-align: right;\n",
       "    }\n",
       "</style>\n",
       "<table border=\"1\" class=\"dataframe\">\n",
       "  <thead>\n",
       "    <tr style=\"text-align: right;\">\n",
       "      <th>group</th>\n",
       "      <th>control</th>\n",
       "      <th>treatment</th>\n",
       "    </tr>\n",
       "    <tr>\n",
       "      <th>company_size</th>\n",
       "      <th></th>\n",
       "      <th></th>\n",
       "    </tr>\n",
       "  </thead>\n",
       "  <tbody>\n",
       "    <tr>\n",
       "      <th>large</th>\n",
       "      <td>2701</td>\n",
       "      <td>2445</td>\n",
       "    </tr>\n",
       "    <tr>\n",
       "      <th>medium</th>\n",
       "      <td>735</td>\n",
       "      <td>692</td>\n",
       "    </tr>\n",
       "    <tr>\n",
       "      <th>small</th>\n",
       "      <td>4297</td>\n",
       "      <td>4604</td>\n",
       "    </tr>\n",
       "  </tbody>\n",
       "</table>\n",
       "</div>"
      ],
      "text/plain": [
       "group         control  treatment\n",
       "company_size                    \n",
       "large            2701       2445\n",
       "medium            735        692\n",
       "small            4297       4604"
      ]
     },
     "execution_count": 111,
     "metadata": {},
     "output_type": "execute_result"
    }
   ],
   "source": [
    "company_size_count = pd.crosstab(experiment.company_size, experiment.treatment, colnames=['group'])\n",
    "company_size_count.rename(columns=mapping_dict, inplace=True)\n",
    "company_size_count"
   ]
  },
  {
   "cell_type": "code",
   "execution_count": null,
   "id": "90c43633",
   "metadata": {},
   "outputs": [],
   "source": [
    "fig, ax = "
   ]
  },
  {
   "cell_type": "code",
   "execution_count": null,
   "id": "ffcb68d3",
   "metadata": {},
   "outputs": [],
   "source": []
  },
  {
   "cell_type": "code",
   "execution_count": null,
   "id": "7971cc87",
   "metadata": {},
   "outputs": [],
   "source": []
  },
  {
   "cell_type": "code",
   "execution_count": null,
   "id": "c89fffba",
   "metadata": {},
   "outputs": [],
   "source": []
  },
  {
   "cell_type": "code",
   "execution_count": null,
   "id": "8ae51f47",
   "metadata": {},
   "outputs": [],
   "source": []
  },
  {
   "cell_type": "code",
   "execution_count": null,
   "id": "e4a67793",
   "metadata": {},
   "outputs": [],
   "source": []
  },
  {
   "cell_type": "code",
   "execution_count": null,
   "id": "d34ac63e",
   "metadata": {},
   "outputs": [],
   "source": []
  },
  {
   "cell_type": "code",
   "execution_count": null,
   "id": "86835bd2",
   "metadata": {},
   "outputs": [],
   "source": []
  },
  {
   "cell_type": "code",
   "execution_count": null,
   "id": "6ec4a7d5",
   "metadata": {},
   "outputs": [],
   "source": []
  },
  {
   "cell_type": "code",
   "execution_count": null,
   "id": "5aed398d",
   "metadata": {},
   "outputs": [],
   "source": []
  },
  {
   "cell_type": "code",
   "execution_count": null,
   "id": "2b6effcf",
   "metadata": {},
   "outputs": [],
   "source": []
  },
  {
   "cell_type": "code",
   "execution_count": null,
   "id": "91a78fd6",
   "metadata": {},
   "outputs": [],
   "source": []
  },
  {
   "cell_type": "code",
   "execution_count": null,
   "id": "8c1e1992",
   "metadata": {},
   "outputs": [],
   "source": []
  },
  {
   "cell_type": "code",
   "execution_count": null,
   "id": "6c64f2d2",
   "metadata": {},
   "outputs": [],
   "source": []
  },
  {
   "cell_type": "code",
   "execution_count": null,
   "id": "7820a905",
   "metadata": {},
   "outputs": [],
   "source": []
  },
  {
   "cell_type": "code",
   "execution_count": null,
   "id": "f37d5282",
   "metadata": {},
   "outputs": [],
   "source": []
  },
  {
   "cell_type": "code",
   "execution_count": null,
   "id": "85c0b9d9",
   "metadata": {},
   "outputs": [],
   "source": []
  },
  {
   "cell_type": "code",
   "execution_count": null,
   "id": "4386b9fe",
   "metadata": {},
   "outputs": [],
   "source": []
  }
 ],
 "metadata": {
  "kernelspec": {
   "display_name": "Python 3",
   "language": "python",
   "name": "python3"
  },
  "language_info": {
   "codemirror_mode": {
    "name": "ipython",
    "version": 3
   },
   "file_extension": ".py",
   "mimetype": "text/x-python",
   "name": "python",
   "nbconvert_exporter": "python",
   "pygments_lexer": "ipython3",
   "version": "3.7.7"
  }
 },
 "nbformat": 4,
 "nbformat_minor": 5
}
