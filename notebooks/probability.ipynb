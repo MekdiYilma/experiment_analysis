{
 "cells": [
  {
   "cell_type": "code",
   "execution_count": 3,
   "id": "d8d60b42",
   "metadata": {},
   "outputs": [
    {
     "name": "stdout",
     "output_type": "stream",
     "text": [
      "1 1 2\n",
      "1 2 3\n",
      "1 3 4\n",
      "1 4 5\n",
      "1 5 6\n",
      "1 6 7\n",
      "2 1 3\n",
      "2 2 4\n",
      "2 3 5\n",
      "2 4 6\n",
      "2 5 7\n",
      "2 6 8\n",
      "3 1 4\n",
      "3 2 5\n",
      "3 3 6\n",
      "3 4 7\n",
      "3 5 8\n",
      "3 6 9\n",
      "4 1 5\n",
      "4 2 6\n",
      "4 3 7\n",
      "4 4 8\n",
      "4 5 9\n",
      "4 6 10\n",
      "5 1 6\n",
      "5 2 7\n",
      "5 3 8\n",
      "5 4 9\n",
      "5 5 10\n",
      "5 6 11\n",
      "6 1 7\n",
      "6 2 8\n",
      "6 3 9\n",
      "6 4 10\n",
      "6 5 11\n",
      "6 6 12\n"
     ]
    }
   ],
   "source": [
    "for i in range(1,7):\n",
    "    for j in range(1,7):\n",
    "        print(i, j, i+j)"
   ]
  },
  {
   "cell_type": "code",
   "execution_count": null,
   "id": "fc63c867",
   "metadata": {},
   "outputs": [],
   "source": [
    "np.random.randint()"
   ]
  }
 ],
 "metadata": {
  "kernelspec": {
   "display_name": "Python 3",
   "language": "python",
   "name": "python3"
  },
  "language_info": {
   "codemirror_mode": {
    "name": "ipython",
    "version": 3
   },
   "file_extension": ".py",
   "mimetype": "text/x-python",
   "name": "python",
   "nbconvert_exporter": "python",
   "pygments_lexer": "ipython3",
   "version": "3.7.7"
  }
 },
 "nbformat": 4,
 "nbformat_minor": 5
}
