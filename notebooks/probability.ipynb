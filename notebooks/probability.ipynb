{
 "cells": [
  {
   "cell_type": "code",
   "execution_count": 1,
   "id": "63da2d8c",
   "metadata": {},
   "outputs": [],
   "source": [
    "import numpy as np"
   ]
  },
  {
   "cell_type": "markdown",
   "id": "bda205ab",
   "metadata": {},
   "source": [
    "# Craps Simulation"
   ]
  },
  {
   "cell_type": "code",
   "execution_count": 2,
   "id": "86f163c5",
   "metadata": {},
   "outputs": [],
   "source": [
    "def roll_two_dice():\n",
    "    dice_1 = np.random.choice(range(1,7), size= 1, replace=True, p=[0, 1/4, 1/4, 1/4, 1/4, 0])\n",
    "    dice_2 = np.random.choice(range(1,7), size= 1, replace=True)\n",
    "    return dice_1, dice_2"
   ]
  },
  {
   "cell_type": "code",
   "execution_count": 3,
   "id": "d84922ff",
   "metadata": {},
   "outputs": [],
   "source": [
    "def play_second_craps(roll, n):\n",
    "    new_roll = sum(roll_two_dice())\n",
    "    if new_roll == roll:\n",
    "        result = 'Crap Winner! :D'\n",
    "    elif new_roll == 7:\n",
    "        result = 'Crap Out! :('\n",
    "    else:\n",
    "        n, result = play_second_craps(new_roll, n+1)   \n",
    "    return n , result\n",
    "    "
   ]
  },
  {
   "cell_type": "code",
   "execution_count": 4,
   "id": "e7e62769",
   "metadata": {},
   "outputs": [],
   "source": [
    "def play_craps():\n",
    "        roll = sum(roll_two_dice())\n",
    "        n = 1\n",
    "        if roll in [7, 11]:\n",
    "            result = 'Crap Winner! :D'\n",
    "        elif roll in [2, 3, 12]:\n",
    "            result = 'Crap Out! :('\n",
    "        else:\n",
    "            n, result = play_second_craps(roll, n+1)\n",
    "        return n, result\n",
    "                \n",
    "                "
   ]
  },
  {
   "cell_type": "code",
   "execution_count": 5,
   "id": "5350c2e6",
   "metadata": {},
   "outputs": [
    {
     "data": {
      "text/plain": [
       "(3, 'Crap Winner! :D')"
      ]
     },
     "execution_count": 5,
     "metadata": {},
     "output_type": "execute_result"
    }
   ],
   "source": [
    "play_craps()"
   ]
  },
  {
   "cell_type": "code",
   "execution_count": 6,
   "id": "271d265a",
   "metadata": {},
   "outputs": [],
   "source": [
    "def convert_to_dict_proba(d):\n",
    "    d_prob = {}\n",
    "    for k, v in d.items():\n",
    "        d_prob[k] = v/sum(d.values())\n",
    "    return d_prob \n",
    "    "
   ]
  },
  {
   "cell_type": "markdown",
   "id": "0a43f17a",
   "metadata": {},
   "source": [
    "## Probability of Rolliing A Dice Sum Between 2 and 12"
   ]
  },
  {
   "cell_type": "code",
   "execution_count": 7,
   "id": "00ae2687",
   "metadata": {},
   "outputs": [
    {
     "data": {
      "text/plain": [
       "{10: 0.08366,\n",
       " 9: 0.12414,\n",
       " 3: 0.0419,\n",
       " 8: 0.16902,\n",
       " 6: 0.16437,\n",
       " 7: 0.16666,\n",
       " 11: 0.0409,\n",
       " 4: 0.08364,\n",
       " 5: 0.12571}"
      ]
     },
     "execution_count": 7,
     "metadata": {},
     "output_type": "execute_result"
    }
   ],
   "source": [
    "d = {}\n",
    "for _ in range(100000):\n",
    "    roll = sum(roll_two_dice())[0]\n",
    "    if roll not in d:\n",
    "        d[roll] = 0\n",
    "    d[roll] += 1\n",
    "\n",
    "convert_to_dict_proba(d)\n",
    "    "
   ]
  },
  {
   "cell_type": "markdown",
   "id": "fb2daa87",
   "metadata": {},
   "source": [
    "## Probability of Winning on First Roll? Losing on First Roll?"
   ]
  },
  {
   "cell_type": "code",
   "execution_count": 8,
   "id": "0018929c",
   "metadata": {},
   "outputs": [
    {
     "data": {
      "text/plain": [
       "{'first_win': 0.20881, 'first_loss': 0.04251, 'sum_X': 0.74868}"
      ]
     },
     "execution_count": 8,
     "metadata": {},
     "output_type": "execute_result"
    }
   ],
   "source": [
    "d = {'first_win':0, 'first_loss':0, 'sum_X':0}\n",
    "\n",
    "for _ in range(100000):\n",
    "    n, result = play_craps()\n",
    "    if n == 1 and result == 'Crap Winner! :D':\n",
    "        d['first_win'] += 1\n",
    "    elif n == 1 and result == 'Crap Out! :(':\n",
    "        d['first_loss'] += 1\n",
    "    else:\n",
    "        d['sum_X'] += 1\n",
    "\n",
    "convert_to_dict_proba(d)"
   ]
  },
  {
   "cell_type": "markdown",
   "id": "955a6063",
   "metadata": {},
   "source": [
    "## Probability of Winning on Second or More Roll?"
   ]
  },
  {
   "cell_type": "code",
   "execution_count": 9,
   "id": "f4739dd6",
   "metadata": {},
   "outputs": [
    {
     "data": {
      "text/plain": [
       "{'first': 0.24836, 'sum_X_win': 0.3243, 'sum_X_loss': 0.42734}"
      ]
     },
     "execution_count": 9,
     "metadata": {},
     "output_type": "execute_result"
    }
   ],
   "source": [
    "d = {'first':0, 'sum_X_win':0, 'sum_X_loss':0}\n",
    "\n",
    "for _ in range(100000):\n",
    "    n, result = play_craps()\n",
    "    if n == 1: \n",
    "        d['first'] += 1\n",
    "    else:\n",
    "        if result == 'Crap Winner! :D':\n",
    "            d['sum_X_win'] += 1\n",
    "        else:\n",
    "            d['sum_X_loss'] += 1\n",
    "            \n",
    "            \n",
    "convert_to_dict_proba(d)"
   ]
  },
  {
   "cell_type": "markdown",
   "id": "0bec6843",
   "metadata": {},
   "source": [
    "# Expected Return for Playing the Game"
   ]
  },
  {
   "cell_type": "code",
   "execution_count": 10,
   "id": "7d52ef96",
   "metadata": {},
   "outputs": [
    {
     "data": {
      "text/plain": [
       "0.06675999999999999"
      ]
     },
     "execution_count": 10,
     "metadata": {},
     "output_type": "execute_result"
    }
   ],
   "source": [
    "d = {'win':0, 'loss':0}\n",
    "\n",
    "for _ in range(100000):\n",
    "    n, result = play_craps()\n",
    "    if result == 'Crap Winner! :D': \n",
    "        d['win'] += 1\n",
    "    else:\n",
    "        d['loss'] += 1\n",
    "\n",
    "d_proba = convert_to_dict_proba(d)\n",
    "expected_return = (d_proba['win'] * 1) + (d_proba['loss'] * -1)\n",
    "expected_return"
   ]
  },
  {
   "cell_type": "code",
   "execution_count": null,
   "id": "7603cdd4",
   "metadata": {},
   "outputs": [],
   "source": []
  },
  {
   "cell_type": "code",
   "execution_count": null,
   "id": "6672ba69",
   "metadata": {},
   "outputs": [],
   "source": []
  },
  {
   "cell_type": "code",
   "execution_count": null,
   "id": "4115caaf",
   "metadata": {},
   "outputs": [],
   "source": []
  }
 ],
 "metadata": {
  "kernelspec": {
   "display_name": "Python 3",
   "language": "python",
   "name": "python3"
  },
  "language_info": {
   "codemirror_mode": {
    "name": "ipython",
    "version": 3
   },
   "file_extension": ".py",
   "mimetype": "text/x-python",
   "name": "python",
   "nbconvert_exporter": "python",
   "pygments_lexer": "ipython3",
   "version": "3.7.7"
  }
 },
 "nbformat": 4,
 "nbformat_minor": 5
}
